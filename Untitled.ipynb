{
 "cells": [
  {
   "cell_type": "code",
   "execution_count": 16,
   "id": "5bb03c00",
   "metadata": {},
   "outputs": [],
   "source": [
    "import pandas as pd\n",
    "import numpy as np\n",
    "import matplotlib.pyplot as plt\n",
    "import seaborn as sns; sns.set()  # for plot styling\n",
    "\n",
    "from sklearn.preprocessing import StandardScaler\n",
    "from sklearn.cluster import KMeans\n",
    "from sklearn.metrics import silhouette_samples, silhouette_score\n",
    "from sklearn.preprocessing import MinMaxScaler\n",
    "\n",
    "from matplotlib import cm\n",
    "from mpl_toolkits.mplot3d import Axes3D # for 3D plots"
   ]
  },
  {
   "cell_type": "code",
   "execution_count": 17,
   "id": "ce34e198",
   "metadata": {},
   "outputs": [],
   "source": [
    "df_mineria=pd.read_csv('dimension_mineria.csv', sep=',', decimal=',', encoding = 'latin-1')\n",
    "df_salud=pd.read_csv('salud_ITS.csv', sep=',', decimal=',', encoding = 'latin-1')"
   ]
  },
  {
   "cell_type": "code",
   "execution_count": 18,
   "id": "80fe8892",
   "metadata": {},
   "outputs": [
    {
     "name": "stdout",
     "output_type": "stream",
     "text": [
      "       Unnamed: 0  Codigo_dane Municipio_productor Departamento  \\\n",
      "0               0         5001            Medellin    Antioquia   \n",
      "1               1         5001            Medellin    Antioquia   \n",
      "2               2         5001            Medellin    Antioquia   \n",
      "3               3         5001            Medellin    Antioquia   \n",
      "4               4         5001            Medellin    Antioquia   \n",
      "...           ...          ...                 ...          ...   \n",
      "45210       45210        99773           CumaribÃ±      Vichada   \n",
      "45211       45211        99773           CumaribÃ±      Vichada   \n",
      "45212       45212        99773           CumaribÃ±      Vichada   \n",
      "45213       45213        99773           CumaribÃ±      Vichada   \n",
      "45214       45214        99773           CumaribÃ±      Vichada   \n",
      "\n",
      "             Recurso_natural Nombre_del_proyecto  A_o_produccion    Trimestre  \\\n",
      "0                    ARCILLA         PRODUCTORES            2018  Trimestre 4   \n",
      "1         ARCILLAS CERAMICAS         PRODUCTORES            2014  Trimestre 4   \n",
      "2      ARCILLAS FERRUGINOSAS         PRODUCTORES            2012  Trimestre 1   \n",
      "3       ARCILLAS MISCELANEAS         PRODUCTORES            2019  Trimestre 1   \n",
      "4       ARCILLAS MISCELANEAS         PRODUCTORES            2019  Trimestre 2   \n",
      "...                      ...                 ...             ...          ...   \n",
      "45210               TANTALIO         PRODUCTORES            2018  Trimestre 2   \n",
      "45211                    ORO         PRODUCTORES            2019  Trimestre 4   \n",
      "45212                 NIOBIO         PRODUCTORES            2014  Trimestre 4   \n",
      "45213                 NIOBIO         PRODUCTORES            2016  Trimestre 4   \n",
      "45214              VOLFRAMIO         PRODUCTORES            2016  Trimestre 4   \n",
      "\n",
      "      Unidad_medida Tipo_contraprestacion Valor_contraprestacion  \\\n",
      "0         TONELADAS               REGALIA               614258.0   \n",
      "1         TONELADAS               REGALIA              2036781.0   \n",
      "2         TONELADAS               REGALIA               836927.0   \n",
      "3         TONELADAS               REGALIA              5763839.0   \n",
      "4         TONELADAS               REGALIA              5802546.0   \n",
      "...             ...                   ...                    ...   \n",
      "45210    KILOGRAMOS               REGALIA               645095.0   \n",
      "45211        GRAMOS               REGALIA              9251843.0   \n",
      "45212    KILOGRAMOS               REGALIA             23396026.0   \n",
      "45213    KILOGRAMOS               REGALIA             12658396.0   \n",
      "45214    KILOGRAMOS               REGALIA              8351500.0   \n",
      "\n",
      "      Cantidad_producci_n  \n",
      "0                     0.0  \n",
      "1                 14381.0  \n",
      "2                 16308.0  \n",
      "3                 33348.0  \n",
      "4                 32485.0  \n",
      "...                   ...  \n",
      "45210                35.0  \n",
      "45211              1752.0  \n",
      "45212              6195.0  \n",
      "45213              1442.0  \n",
      "45214              2840.0  \n",
      "\n",
      "[45215 rows x 12 columns]\n"
     ]
    }
   ],
   "source": [
    "print(df_mineria)"
   ]
  },
  {
   "cell_type": "code",
   "execution_count": 19,
   "id": "2500e490",
   "metadata": {},
   "outputs": [
    {
     "name": "stdout",
     "output_type": "stream",
     "text": [
      "      Unnamed: 0  CodigoDepartamento Departamento  CodigoEntidad  \\\n",
      "0         334662                  15       Boyacá          15000   \n",
      "1         334663                  13      Bolívar          13000   \n",
      "2         334664                   8    Atlántico           8000   \n",
      "3         334666                   5    Antioquia           5000   \n",
      "4         334667                  99      Vichada          99000   \n",
      "...          ...                 ...          ...            ...   \n",
      "3967      362655                  27        Chocó          27660   \n",
      "3968      362656                  27        Chocó          27745   \n",
      "3969      362657                  27        Chocó          27787   \n",
      "3970      362658                  27        Chocó          27800   \n",
      "3971      362659                  27        Chocó          27810   \n",
      "\n",
      "                  Entidad        Subcategoria  \\\n",
      "0                  Boyacá  Tasas y coberturas   \n",
      "1                 Bolívar  Tasas y coberturas   \n",
      "2               Atlántico  Tasas y coberturas   \n",
      "3               Antioquia  Tasas y coberturas   \n",
      "4                 Vichada  Tasas y coberturas   \n",
      "...                   ...                 ...   \n",
      "3967  San José del Palmar  Tasas y coberturas   \n",
      "3968                 Sipí  Tasas y coberturas   \n",
      "3969                 Tadó  Tasas y coberturas   \n",
      "3970               Unguía  Tasas y coberturas   \n",
      "3971   Unión Panamericana  Tasas y coberturas   \n",
      "\n",
      "                            Indicador  DatoNumerico  Anio  Mes  \\\n",
      "0     Motalidad asociada a VIH / SIDA          0.90  1998   12   \n",
      "1     Motalidad asociada a VIH / SIDA          5.42  1998   12   \n",
      "2     Motalidad asociada a VIH / SIDA          6.74  1998   12   \n",
      "3     Motalidad asociada a VIH / SIDA          3.90  1998   12   \n",
      "4     Motalidad asociada a VIH / SIDA          0.00  1998   12   \n",
      "...                               ...           ...   ...  ...   \n",
      "3967       Incidencia del VIH - Mujer          0.00  2018   11   \n",
      "3968       Incidencia del VIH - Mujer          0.00  2018   11   \n",
      "3969       Incidencia del VIH - Mujer          0.00  2018   11   \n",
      "3970       Incidencia del VIH - Mujer          0.00  2018   11   \n",
      "3971       Incidencia del VIH - Mujer          0.00  2018   11   \n",
      "\n",
      "                                              Fuente  \\\n",
      "0                                Ministerio de Salud   \n",
      "1                                Ministerio de Salud   \n",
      "2                                Ministerio de Salud   \n",
      "3                                Ministerio de Salud   \n",
      "4                                Ministerio de Salud   \n",
      "...                                              ...   \n",
      "3967  Ministerio de Salud y Protección Social - MSPS   \n",
      "3968  Ministerio de Salud y Protección Social - MSPS   \n",
      "3969  Ministerio de Salud y Protección Social - MSPS   \n",
      "3970  Ministerio de Salud y Protección Social - MSPS   \n",
      "3971  Ministerio de Salud y Protección Social - MSPS   \n",
      "\n",
      "                                UnidadDeMedida  \n",
      "0     Casos por cada 1.000 personas fallecidas  \n",
      "1     Casos por cada 1.000 personas fallecidas  \n",
      "2     Casos por cada 1.000 personas fallecidas  \n",
      "3     Casos por cada 1.000 personas fallecidas  \n",
      "4     Casos por cada 1.000 personas fallecidas  \n",
      "...                                        ...  \n",
      "3967            Casos por cada 100.000 mujeres  \n",
      "3968            Casos por cada 100.000 mujeres  \n",
      "3969            Casos por cada 100.000 mujeres  \n",
      "3970            Casos por cada 100.000 mujeres  \n",
      "3971            Casos por cada 100.000 mujeres  \n",
      "\n",
      "[3972 rows x 12 columns]\n"
     ]
    }
   ],
   "source": [
    "print(df_salud)"
   ]
  },
  {
   "cell_type": "code",
   "execution_count": 20,
   "id": "008893b7",
   "metadata": {},
   "outputs": [
    {
     "name": "stdout",
     "output_type": "stream",
     "text": [
      "0                    Boyacá\n",
      "1                   Bolívar\n",
      "2                 Atlántico\n",
      "3                 Antioquia\n",
      "4                   Vichada\n",
      "               ...         \n",
      "3967    San José del Palmar\n",
      "3968                   Sipí\n",
      "3969                   Tadó\n",
      "3970                 Unguía\n",
      "3971     Unión Panamericana\n",
      "Name: Entidad, Length: 3972, dtype: object\n"
     ]
    }
   ],
   "source": [
    "print(df_salud.Entidad)"
   ]
  },
  {
   "cell_type": "code",
   "execution_count": 21,
   "id": "a20e3f06",
   "metadata": {},
   "outputs": [],
   "source": [
    "df_mineria.rename(columns = {'Municipio_productor':'Entidad'}, inplace = True)"
   ]
  },
  {
   "cell_type": "code",
   "execution_count": 22,
   "id": "666e4540",
   "metadata": {},
   "outputs": [],
   "source": [
    "df_inner = pd.merge(df_salud, df_mineria, on='Entidad')"
   ]
  },
  {
   "cell_type": "code",
   "execution_count": 23,
   "id": "40bccd45",
   "metadata": {},
   "outputs": [
    {
     "name": "stdout",
     "output_type": "stream",
     "text": [
      "       Unnamed: 0_x  CodigoDepartamento Departamento_x  CodigoEntidad  \\\n",
      "0            359264                   5      Antioquia           5031   \n",
      "1            359264                   5      Antioquia           5031   \n",
      "2            359264                   5      Antioquia           5031   \n",
      "3            359264                   5      Antioquia           5031   \n",
      "4            359264                   5      Antioquia           5031   \n",
      "...             ...                 ...            ...            ...   \n",
      "34459        362624                  25   Cundinamarca          25875   \n",
      "34460        362624                  25   Cundinamarca          25875   \n",
      "34461        362624                  25   Cundinamarca          25875   \n",
      "34462        362624                  25   Cundinamarca          25875   \n",
      "34463        362624                  25   Cundinamarca          25875   \n",
      "\n",
      "       Entidad        Subcategoria                   Indicador  DatoNumerico  \\\n",
      "0       Amalfi  Tasas y coberturas          Incidencia del VIH           4.7   \n",
      "1       Amalfi  Tasas y coberturas          Incidencia del VIH           4.7   \n",
      "2       Amalfi  Tasas y coberturas          Incidencia del VIH           4.7   \n",
      "3       Amalfi  Tasas y coberturas          Incidencia del VIH           4.7   \n",
      "4       Amalfi  Tasas y coberturas          Incidencia del VIH           4.7   \n",
      "...        ...                 ...                         ...           ...   \n",
      "34459  Villeta  Tasas y coberturas  Incidencia del VIH - Mujer           0.0   \n",
      "34460  Villeta  Tasas y coberturas  Incidencia del VIH - Mujer           0.0   \n",
      "34461  Villeta  Tasas y coberturas  Incidencia del VIH - Mujer           0.0   \n",
      "34462  Villeta  Tasas y coberturas  Incidencia del VIH - Mujer           0.0   \n",
      "34463  Villeta  Tasas y coberturas  Incidencia del VIH - Mujer           0.0   \n",
      "\n",
      "       Anio  Mes  ... Codigo_dane Departamento_y  Recurso_natural  \\\n",
      "0      2018   11  ...        5031      Antioquia          CALIZAS   \n",
      "1      2018   11  ...        5031      Antioquia          CALIZAS   \n",
      "2      2018   11  ...        5031      Antioquia          CALIZAS   \n",
      "3      2018   11  ...        5031      Antioquia          CALIZAS   \n",
      "4      2018   11  ...        5031      Antioquia          CALIZAS   \n",
      "...     ...  ...  ...         ...            ...              ...   \n",
      "34459  2018   11  ...       25875   Cundinamarca           GRAVAS   \n",
      "34460  2018   11  ...       25875   Cundinamarca           GRAVAS   \n",
      "34461  2018   11  ...       25875   Cundinamarca           GRAVAS   \n",
      "34462  2018   11  ...       25875   Cundinamarca           GRAVAS   \n",
      "34463  2018   11  ...       76622   Cundinamarca           RECEBO   \n",
      "\n",
      "       Nombre_del_proyecto A_o_produccion    Trimestre   Unidad_medida  \\\n",
      "0              PRODUCTORES           2014  Trimestre 1       TONELADAS   \n",
      "1              PRODUCTORES           2016  Trimestre 1       TONELADAS   \n",
      "2              PRODUCTORES           2017  Trimestre 1       TONELADAS   \n",
      "3              PRODUCTORES           2018  Trimestre 1       TONELADAS   \n",
      "4              PRODUCTORES           2013  Trimestre 2       TONELADAS   \n",
      "...                    ...            ...          ...             ...   \n",
      "34459          PRODUCTORES           2013  Trimestre 4  METROS CUBICOS   \n",
      "34460          PRODUCTORES           2016  Trimestre 4  METROS CUBICOS   \n",
      "34461          PRODUCTORES           2017  Trimestre 4  METROS CUBICOS   \n",
      "34462          PRODUCTORES           2020  Trimestre 4  METROS CUBICOS   \n",
      "34463          PRODUCTORES           2021  Trimestre 2  METROS CUBICOS   \n",
      "\n",
      "       Tipo_contraprestacion Valor_contraprestacion Cantidad_producci_n  \n",
      "0                    REGALIA              2775643.0             21227.0  \n",
      "1                    REGALIA              3432580.0             23801.0  \n",
      "2                    REGALIA              2062756.0             30259.0  \n",
      "3                    REGALIA              1164249.0             16937.0  \n",
      "4                    REGALIA              3175039.0             24961.0  \n",
      "...                      ...                    ...                 ...  \n",
      "34459                REGALIA             28788852.0                 0.0  \n",
      "34460                REGALIA              1766293.0              9812.0  \n",
      "34461                REGALIA               530604.0              2923.0  \n",
      "34462                REGALIA                 9062.0                45.0  \n",
      "34463                REGALIA                51637.0               525.0  \n",
      "\n",
      "[34464 rows x 23 columns]\n"
     ]
    }
   ],
   "source": [
    "print(df_inner)"
   ]
  },
  {
   "cell_type": "code",
   "execution_count": 24,
   "id": "a461fd3c",
   "metadata": {},
   "outputs": [
    {
     "name": "stdout",
     "output_type": "stream",
     "text": [
      "0        Casos por cada 100.000 habitantes\n",
      "1        Casos por cada 100.000 habitantes\n",
      "2        Casos por cada 100.000 habitantes\n",
      "3        Casos por cada 100.000 habitantes\n",
      "4        Casos por cada 100.000 habitantes\n",
      "                       ...                \n",
      "34459       Casos por cada 100.000 mujeres\n",
      "34460       Casos por cada 100.000 mujeres\n",
      "34461       Casos por cada 100.000 mujeres\n",
      "34462       Casos por cada 100.000 mujeres\n",
      "34463       Casos por cada 100.000 mujeres\n",
      "Name: UnidadDeMedida, Length: 34464, dtype: object\n"
     ]
    }
   ],
   "source": [
    "print(df_inner.UnidadDeMedida)"
   ]
  },
  {
   "cell_type": "code",
   "execution_count": 25,
   "id": "4ce0479a",
   "metadata": {},
   "outputs": [],
   "source": [
    "join=pd.DataFrame(df_inner)\n",
    "\n",
    "join.to_csv('saludYmineria.csv')"
   ]
  },
  {
   "cell_type": "code",
   "execution_count": 26,
   "id": "2a453b80",
   "metadata": {},
   "outputs": [],
   "source": [
    "df_inner = df_inner.drop(['Unnamed: 0_x','Trimestre','Codigo_dane','Unnamed: 0_y', 'Mes','Departamento_y','Departamento_x','CodigoDepartamento','Subcategoria','Anio','Mes','Fuente','UnidadDeMedida','Nombre_del_proyecto','Tipo_contraprestacion','Valor_contraprestacion'], axis =1)\n"
   ]
  },
  {
   "cell_type": "code",
   "execution_count": 27,
   "id": "2db13c71",
   "metadata": {},
   "outputs": [
    {
     "data": {
      "text/html": [
       "<div>\n",
       "<style scoped>\n",
       "    .dataframe tbody tr th:only-of-type {\n",
       "        vertical-align: middle;\n",
       "    }\n",
       "\n",
       "    .dataframe tbody tr th {\n",
       "        vertical-align: top;\n",
       "    }\n",
       "\n",
       "    .dataframe thead th {\n",
       "        text-align: right;\n",
       "    }\n",
       "</style>\n",
       "<table border=\"1\" class=\"dataframe\">\n",
       "  <thead>\n",
       "    <tr style=\"text-align: right;\">\n",
       "      <th></th>\n",
       "      <th>CodigoEntidad</th>\n",
       "      <th>Entidad</th>\n",
       "      <th>Indicador</th>\n",
       "      <th>DatoNumerico</th>\n",
       "      <th>Recurso_natural</th>\n",
       "      <th>A_o_produccion</th>\n",
       "      <th>Unidad_medida</th>\n",
       "      <th>Cantidad_producci_n</th>\n",
       "    </tr>\n",
       "  </thead>\n",
       "  <tbody>\n",
       "    <tr>\n",
       "      <th>0</th>\n",
       "      <td>5031</td>\n",
       "      <td>Amalfi</td>\n",
       "      <td>Incidencia del VIH</td>\n",
       "      <td>4.7</td>\n",
       "      <td>CALIZAS</td>\n",
       "      <td>2014</td>\n",
       "      <td>TONELADAS</td>\n",
       "      <td>21227.0</td>\n",
       "    </tr>\n",
       "    <tr>\n",
       "      <th>1</th>\n",
       "      <td>5031</td>\n",
       "      <td>Amalfi</td>\n",
       "      <td>Incidencia del VIH</td>\n",
       "      <td>4.7</td>\n",
       "      <td>CALIZAS</td>\n",
       "      <td>2016</td>\n",
       "      <td>TONELADAS</td>\n",
       "      <td>23801.0</td>\n",
       "    </tr>\n",
       "    <tr>\n",
       "      <th>2</th>\n",
       "      <td>5031</td>\n",
       "      <td>Amalfi</td>\n",
       "      <td>Incidencia del VIH</td>\n",
       "      <td>4.7</td>\n",
       "      <td>CALIZAS</td>\n",
       "      <td>2017</td>\n",
       "      <td>TONELADAS</td>\n",
       "      <td>30259.0</td>\n",
       "    </tr>\n",
       "    <tr>\n",
       "      <th>3</th>\n",
       "      <td>5031</td>\n",
       "      <td>Amalfi</td>\n",
       "      <td>Incidencia del VIH</td>\n",
       "      <td>4.7</td>\n",
       "      <td>CALIZAS</td>\n",
       "      <td>2018</td>\n",
       "      <td>TONELADAS</td>\n",
       "      <td>16937.0</td>\n",
       "    </tr>\n",
       "    <tr>\n",
       "      <th>4</th>\n",
       "      <td>5031</td>\n",
       "      <td>Amalfi</td>\n",
       "      <td>Incidencia del VIH</td>\n",
       "      <td>4.7</td>\n",
       "      <td>CALIZAS</td>\n",
       "      <td>2013</td>\n",
       "      <td>TONELADAS</td>\n",
       "      <td>24961.0</td>\n",
       "    </tr>\n",
       "  </tbody>\n",
       "</table>\n",
       "</div>"
      ],
      "text/plain": [
       "   CodigoEntidad Entidad           Indicador  DatoNumerico Recurso_natural  \\\n",
       "0           5031  Amalfi  Incidencia del VIH           4.7         CALIZAS   \n",
       "1           5031  Amalfi  Incidencia del VIH           4.7         CALIZAS   \n",
       "2           5031  Amalfi  Incidencia del VIH           4.7         CALIZAS   \n",
       "3           5031  Amalfi  Incidencia del VIH           4.7         CALIZAS   \n",
       "4           5031  Amalfi  Incidencia del VIH           4.7         CALIZAS   \n",
       "\n",
       "   A_o_produccion Unidad_medida Cantidad_producci_n  \n",
       "0            2014     TONELADAS             21227.0  \n",
       "1            2016     TONELADAS             23801.0  \n",
       "2            2017     TONELADAS             30259.0  \n",
       "3            2018     TONELADAS             16937.0  \n",
       "4            2013     TONELADAS             24961.0  "
      ]
     },
     "execution_count": 27,
     "metadata": {},
     "output_type": "execute_result"
    }
   ],
   "source": [
    "df_inner.head()"
   ]
  },
  {
   "cell_type": "code",
   "execution_count": 28,
   "id": "3b766009",
   "metadata": {},
   "outputs": [
    {
     "data": {
      "text/plain": [
       "CodigoEntidad          0\n",
       "Entidad                0\n",
       "Indicador              0\n",
       "DatoNumerico           0\n",
       "Recurso_natural        0\n",
       "A_o_produccion         0\n",
       "Unidad_medida          0\n",
       "Cantidad_producci_n    0\n",
       "dtype: int64"
      ]
     },
     "execution_count": 28,
     "metadata": {},
     "output_type": "execute_result"
    }
   ],
   "source": [
    "df_inner.isnull().sum()"
   ]
  },
  {
   "cell_type": "code",
   "execution_count": 32,
   "id": "100acf53",
   "metadata": {},
   "outputs": [
    {
     "data": {
      "text/plain": [
       "(34464, 8)"
      ]
     },
     "execution_count": 32,
     "metadata": {},
     "output_type": "execute_result"
    }
   ],
   "source": [
    "df_inner.shape"
   ]
  },
  {
   "cell_type": "code",
   "execution_count": 31,
   "id": "9c3078d3",
   "metadata": {},
   "outputs": [
    {
     "data": {
      "text/plain": [
       "Incidencia del VIH             11488\n",
       "Incidencia del VIH - Hombre    11488\n",
       "Incidencia del VIH - Mujer     11488\n",
       "Name: Indicador, dtype: int64"
      ]
     },
     "execution_count": 31,
     "metadata": {},
     "output_type": "execute_result"
    }
   ],
   "source": [
    "df_inner[\"Indicador\"].value_counts()"
   ]
  }
 ],
 "metadata": {
  "kernelspec": {
   "display_name": "Python 3.10.2 64-bit",
   "language": "python",
   "name": "python3"
  },
  "language_info": {
   "codemirror_mode": {
    "name": "ipython",
    "version": 3
   },
   "file_extension": ".py",
   "mimetype": "text/x-python",
   "name": "python",
   "nbconvert_exporter": "python",
   "pygments_lexer": "ipython3",
   "version": "3.10.2"
  },
  "vscode": {
   "interpreter": {
    "hash": "04eb5fd3382f5ae6ecd8e5ea5943a43c2b77f84302c9ef3aee2bb26e0a62d38e"
   }
  }
 },
 "nbformat": 4,
 "nbformat_minor": 5
}
