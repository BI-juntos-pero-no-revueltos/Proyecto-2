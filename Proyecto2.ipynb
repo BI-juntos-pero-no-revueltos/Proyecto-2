{
 "cells": [
  {
   "cell_type": "code",
   "execution_count": 86,
   "metadata": {},
   "outputs": [],
   "source": [
    "\n",
    "#-------------------Imports---------------------\n",
    "import pandas as pd\n",
    "import numpy as np\n",
    "import matplotlib.pyplot as plt\n",
    "import seaborn as sns; sns.set()  # for plot styling\n",
    "\n",
    "from sklearn.preprocessing import StandardScaler\n",
    "from sklearn.cluster import KMeans\n",
    "from sklearn.metrics import silhouette_samples, silhouette_score\n",
    "from sklearn.preprocessing import MinMaxScaler\n",
    "\n",
    "from matplotlib import cm\n",
    "from mpl_toolkits.mplot3d import Axes3D # for 3D plots"
   ]
  },
  {
   "cell_type": "markdown",
   "metadata": {},
   "source": [
    "# Entendimiento de los datos"
   ]
  },
  {
   "cell_type": "code",
   "execution_count": 87,
   "metadata": {},
   "outputs": [
    {
     "name": "stderr",
     "output_type": "stream",
     "text": [
      "C:\\Users\\Windows\\AppData\\Local\\Temp\\ipykernel_1512\\413234368.py:1: DtypeWarning: Columns (8) have mixed types. Specify dtype option on import or set low_memory=False.\n",
      "  df_conflicto=pd.read_csv('Conflicto Armado.csv', sep=';', decimal=',', encoding = 'utf-8')\n",
      "C:\\Users\\Windows\\AppData\\Local\\Temp\\ipykernel_1512\\413234368.py:3: DtypeWarning: Columns (7) have mixed types. Specify dtype option on import or set low_memory=False.\n",
      "  df_salud=pd.read_csv('Salud.csv', sep=';', decimal=',', encoding = 'utf-8')\n"
     ]
    }
   ],
   "source": [
    "df_conflicto=pd.read_csv('Conflicto Armado.csv', sep=';', decimal=',', encoding = 'utf-8')\n",
    "df_educacion=pd.read_csv('Educacion.csv', sep=';', decimal=',', encoding = 'utf-8')\n",
    "df_salud=pd.read_csv('Salud.csv', sep=';', decimal=',', encoding = 'utf-8')\n",
    "df_vivienda=pd.read_csv('Vivienda y Servicios Publicos.csv', sep=';', decimal=',', encoding = 'utf-8')\n"
   ]
  },
  {
   "cell_type": "markdown",
   "metadata": {},
   "source": [
    "## Conflicto armado"
   ]
  },
  {
   "cell_type": "code",
   "execution_count": 88,
   "metadata": {},
   "outputs": [
    {
     "data": {
      "text/html": [
       "<div>\n",
       "<style scoped>\n",
       "    .dataframe tbody tr th:only-of-type {\n",
       "        vertical-align: middle;\n",
       "    }\n",
       "\n",
       "    .dataframe tbody tr th {\n",
       "        vertical-align: top;\n",
       "    }\n",
       "\n",
       "    .dataframe thead th {\n",
       "        text-align: right;\n",
       "    }\n",
       "</style>\n",
       "<table border=\"1\" class=\"dataframe\">\n",
       "  <thead>\n",
       "    <tr style=\"text-align: right;\">\n",
       "      <th></th>\n",
       "      <th>Código Departamento</th>\n",
       "      <th>Departamento</th>\n",
       "      <th>Código Entidad</th>\n",
       "      <th>Entidad</th>\n",
       "      <th>Dimensión</th>\n",
       "      <th>Subcategoría</th>\n",
       "      <th>Indicador</th>\n",
       "      <th>Dato Numérico</th>\n",
       "      <th>Dato Cualitativo</th>\n",
       "      <th>Año</th>\n",
       "      <th>Mes</th>\n",
       "      <th>Fuente</th>\n",
       "      <th>Unidad de Medida</th>\n",
       "    </tr>\n",
       "  </thead>\n",
       "  <tbody>\n",
       "    <tr>\n",
       "      <th>0</th>\n",
       "      <td>NaN</td>\n",
       "      <td>NaN</td>\n",
       "      <td>NaN</td>\n",
       "      <td>NaN</td>\n",
       "      <td>NaN</td>\n",
       "      <td>NaN</td>\n",
       "      <td>aaaaaaaaaaaaaaaaaaaaaaaaaaaaaaaaaaaaaaaaaaaaaa...</td>\n",
       "      <td>NaN</td>\n",
       "      <td>NaN</td>\n",
       "      <td>NaN</td>\n",
       "      <td>NaN</td>\n",
       "      <td>aaaaaaaaaaaaaaaaaaaaaaaaaaaaaaaaaaaaaaaaaaaaaa...</td>\n",
       "      <td>NaN</td>\n",
       "    </tr>\n",
       "    <tr>\n",
       "      <th>1</th>\n",
       "      <td>1.0</td>\n",
       "      <td>Colombia</td>\n",
       "      <td>1001.0</td>\n",
       "      <td>Colombia</td>\n",
       "      <td>Conflicto armado y seguridad ciudadana</td>\n",
       "      <td>Conflicto armado</td>\n",
       "      <td>Número acumulado de personas secuestradas</td>\n",
       "      <td>35.826,00</td>\n",
       "      <td>1984 - 2017</td>\n",
       "      <td>2017.0</td>\n",
       "      <td>12.0</td>\n",
       "      <td>Unidad para la Atención y Reparación Integral ...</td>\n",
       "      <td>Personas</td>\n",
       "    </tr>\n",
       "    <tr>\n",
       "      <th>2</th>\n",
       "      <td>5.0</td>\n",
       "      <td>Antioquia</td>\n",
       "      <td>5000.0</td>\n",
       "      <td>Antioquia</td>\n",
       "      <td>Conflicto armado y seguridad ciudadana</td>\n",
       "      <td>Conflicto armado</td>\n",
       "      <td>Número acumulado de personas secuestradas</td>\n",
       "      <td>8.246,00</td>\n",
       "      <td>1984 - 2017</td>\n",
       "      <td>2017.0</td>\n",
       "      <td>12.0</td>\n",
       "      <td>Unidad para la Atención y Reparación Integral ...</td>\n",
       "      <td>Personas</td>\n",
       "    </tr>\n",
       "    <tr>\n",
       "      <th>3</th>\n",
       "      <td>5.0</td>\n",
       "      <td>Antioquia</td>\n",
       "      <td>5001.0</td>\n",
       "      <td>Medellín</td>\n",
       "      <td>Conflicto armado y seguridad ciudadana</td>\n",
       "      <td>Conflicto armado</td>\n",
       "      <td>Número acumulado de personas secuestradas</td>\n",
       "      <td>516,00</td>\n",
       "      <td>1984 - 2017</td>\n",
       "      <td>2017.0</td>\n",
       "      <td>12.0</td>\n",
       "      <td>Unidad para la Atención y Reparación Integral ...</td>\n",
       "      <td>Personas</td>\n",
       "    </tr>\n",
       "    <tr>\n",
       "      <th>4</th>\n",
       "      <td>5.0</td>\n",
       "      <td>Antioquia</td>\n",
       "      <td>5002.0</td>\n",
       "      <td>Abejorral</td>\n",
       "      <td>Conflicto armado y seguridad ciudadana</td>\n",
       "      <td>Conflicto armado</td>\n",
       "      <td>Número acumulado de personas secuestradas</td>\n",
       "      <td>75,00</td>\n",
       "      <td>1984 - 2017</td>\n",
       "      <td>2017.0</td>\n",
       "      <td>12.0</td>\n",
       "      <td>Unidad para la Atención y Reparación Integral ...</td>\n",
       "      <td>Personas</td>\n",
       "    </tr>\n",
       "  </tbody>\n",
       "</table>\n",
       "</div>"
      ],
      "text/plain": [
       "   Código Departamento Departamento  Código Entidad    Entidad  \\\n",
       "0                  NaN          NaN             NaN        NaN   \n",
       "1                  1.0     Colombia          1001.0   Colombia   \n",
       "2                  5.0    Antioquia          5000.0  Antioquia   \n",
       "3                  5.0    Antioquia          5001.0   Medellín   \n",
       "4                  5.0    Antioquia          5002.0  Abejorral   \n",
       "\n",
       "                                Dimensión      Subcategoría  \\\n",
       "0                                     NaN               NaN   \n",
       "1  Conflicto armado y seguridad ciudadana  Conflicto armado   \n",
       "2  Conflicto armado y seguridad ciudadana  Conflicto armado   \n",
       "3  Conflicto armado y seguridad ciudadana  Conflicto armado   \n",
       "4  Conflicto armado y seguridad ciudadana  Conflicto armado   \n",
       "\n",
       "                                           Indicador Dato Numérico  \\\n",
       "0  aaaaaaaaaaaaaaaaaaaaaaaaaaaaaaaaaaaaaaaaaaaaaa...           NaN   \n",
       "1          Número acumulado de personas secuestradas     35.826,00   \n",
       "2          Número acumulado de personas secuestradas      8.246,00   \n",
       "3          Número acumulado de personas secuestradas        516,00   \n",
       "4          Número acumulado de personas secuestradas         75,00   \n",
       "\n",
       "  Dato Cualitativo     Año   Mes  \\\n",
       "0              NaN     NaN   NaN   \n",
       "1      1984 - 2017  2017.0  12.0   \n",
       "2      1984 - 2017  2017.0  12.0   \n",
       "3      1984 - 2017  2017.0  12.0   \n",
       "4      1984 - 2017  2017.0  12.0   \n",
       "\n",
       "                                              Fuente Unidad de Medida  \n",
       "0  aaaaaaaaaaaaaaaaaaaaaaaaaaaaaaaaaaaaaaaaaaaaaa...              NaN  \n",
       "1  Unidad para la Atención y Reparación Integral ...         Personas  \n",
       "2  Unidad para la Atención y Reparación Integral ...         Personas  \n",
       "3  Unidad para la Atención y Reparación Integral ...         Personas  \n",
       "4  Unidad para la Atención y Reparación Integral ...         Personas  "
      ]
     },
     "execution_count": 88,
     "metadata": {},
     "output_type": "execute_result"
    }
   ],
   "source": [
    "df_conflicto.head()"
   ]
  },
  {
   "cell_type": "code",
   "execution_count": 89,
   "metadata": {},
   "outputs": [
    {
     "name": "stdout",
     "output_type": "stream",
     "text": [
      "<class 'pandas.core.frame.DataFrame'>\n",
      "RangeIndex: 314119 entries, 0 to 314118\n",
      "Data columns (total 13 columns):\n",
      " #   Column               Non-Null Count   Dtype  \n",
      "---  ------               --------------   -----  \n",
      " 0   Código Departamento  314118 non-null  float64\n",
      " 1   Departamento         314118 non-null  object \n",
      " 2   Código Entidad       314118 non-null  float64\n",
      " 3   Entidad              314118 non-null  object \n",
      " 4   Dimensión            314118 non-null  object \n",
      " 5   Subcategoría         314118 non-null  object \n",
      " 6   Indicador            314119 non-null  object \n",
      " 7   Dato Numérico        259158 non-null  object \n",
      " 8   Dato Cualitativo     4536 non-null    object \n",
      " 9   Año                  314118 non-null  float64\n",
      " 10  Mes                  314118 non-null  float64\n",
      " 11  Fuente               314119 non-null  object \n",
      " 12  Unidad de Medida     314118 non-null  object \n",
      "dtypes: float64(4), object(9)\n",
      "memory usage: 31.2+ MB\n"
     ]
    }
   ],
   "source": [
    "df_conflicto.info()"
   ]
  },
  {
   "cell_type": "code",
   "execution_count": 90,
   "metadata": {},
   "outputs": [
    {
     "data": {
      "text/plain": [
       "(314119, 13)"
      ]
     },
     "execution_count": 90,
     "metadata": {},
     "output_type": "execute_result"
    }
   ],
   "source": [
    "df_conflicto.shape"
   ]
  },
  {
   "cell_type": "code",
   "execution_count": 91,
   "metadata": {},
   "outputs": [
    {
     "data": {
      "text/plain": [
       "Código Departamento         1\n",
       "Departamento                1\n",
       "Código Entidad              1\n",
       "Entidad                     1\n",
       "Dimensión                   1\n",
       "Subcategoría                1\n",
       "Indicador                   0\n",
       "Dato Numérico           54961\n",
       "Dato Cualitativo       309583\n",
       "Año                         1\n",
       "Mes                         1\n",
       "Fuente                      0\n",
       "Unidad de Medida            1\n",
       "dtype: int64"
      ]
     },
     "execution_count": 91,
     "metadata": {},
     "output_type": "execute_result"
    }
   ],
   "source": [
    "df_conflicto.isnull().sum()"
   ]
  },
  {
   "cell_type": "markdown",
   "metadata": {},
   "source": [
    "## Educación"
   ]
  },
  {
   "cell_type": "code",
   "execution_count": 92,
   "metadata": {},
   "outputs": [
    {
     "data": {
      "text/html": [
       "<div>\n",
       "<style scoped>\n",
       "    .dataframe tbody tr th:only-of-type {\n",
       "        vertical-align: middle;\n",
       "    }\n",
       "\n",
       "    .dataframe tbody tr th {\n",
       "        vertical-align: top;\n",
       "    }\n",
       "\n",
       "    .dataframe thead th {\n",
       "        text-align: right;\n",
       "    }\n",
       "</style>\n",
       "<table border=\"1\" class=\"dataframe\">\n",
       "  <thead>\n",
       "    <tr style=\"text-align: right;\">\n",
       "      <th></th>\n",
       "      <th>Código Departamento</th>\n",
       "      <th>Departamento</th>\n",
       "      <th>Código Entidad</th>\n",
       "      <th>Entidad</th>\n",
       "      <th>Dimensión</th>\n",
       "      <th>Subcategoría</th>\n",
       "      <th>Indicador</th>\n",
       "      <th>Dato Numérico</th>\n",
       "      <th>Dato Cualitativo</th>\n",
       "      <th>Año</th>\n",
       "      <th>Mes</th>\n",
       "      <th>Fuente</th>\n",
       "      <th>Unidad de Medida</th>\n",
       "    </tr>\n",
       "  </thead>\n",
       "  <tbody>\n",
       "    <tr>\n",
       "      <th>0</th>\n",
       "      <td>NaN</td>\n",
       "      <td>NaN</td>\n",
       "      <td>NaN</td>\n",
       "      <td>NaN</td>\n",
       "      <td>NaN</td>\n",
       "      <td>NaN</td>\n",
       "      <td>aaaaaaaaaaaaaaaaaaaaaaaaaaaaaaaaaaaaaaaaaaaaaa...</td>\n",
       "      <td>NaN</td>\n",
       "      <td>NaN</td>\n",
       "      <td>NaN</td>\n",
       "      <td>NaN</td>\n",
       "      <td>aaaaaaaaaaaaaaaaaaaaaaaaaaaaaaaaaaaaaaaaaaaaaa...</td>\n",
       "      <td>NaN</td>\n",
       "    </tr>\n",
       "    <tr>\n",
       "      <th>1</th>\n",
       "      <td>20.0</td>\n",
       "      <td>Cesar</td>\n",
       "      <td>20000.0</td>\n",
       "      <td>Cesar</td>\n",
       "      <td>Educación</td>\n",
       "      <td>Acceso a la educación</td>\n",
       "      <td>Cobertura bruta en transición</td>\n",
       "      <td>122.39</td>\n",
       "      <td>NaN</td>\n",
       "      <td>2005.0</td>\n",
       "      <td>12.0</td>\n",
       "      <td>Ministerio de Educación Nacional</td>\n",
       "      <td>Porcentaje (el valor está multiplicado por 100)</td>\n",
       "    </tr>\n",
       "    <tr>\n",
       "      <th>2</th>\n",
       "      <td>20.0</td>\n",
       "      <td>Cesar</td>\n",
       "      <td>20001.0</td>\n",
       "      <td>Valledupar</td>\n",
       "      <td>Educación</td>\n",
       "      <td>Acceso a la educación</td>\n",
       "      <td>Cobertura bruta en transición</td>\n",
       "      <td>98.26</td>\n",
       "      <td>NaN</td>\n",
       "      <td>2005.0</td>\n",
       "      <td>12.0</td>\n",
       "      <td>Ministerio de Educación Nacional</td>\n",
       "      <td>Porcentaje (el valor está multiplicado por 100)</td>\n",
       "    </tr>\n",
       "    <tr>\n",
       "      <th>3</th>\n",
       "      <td>20.0</td>\n",
       "      <td>Cesar</td>\n",
       "      <td>20011.0</td>\n",
       "      <td>Aguachica</td>\n",
       "      <td>Educación</td>\n",
       "      <td>Acceso a la educación</td>\n",
       "      <td>Cobertura bruta en transición</td>\n",
       "      <td>107.07</td>\n",
       "      <td>NaN</td>\n",
       "      <td>2005.0</td>\n",
       "      <td>12.0</td>\n",
       "      <td>Ministerio de Educación Nacional</td>\n",
       "      <td>Porcentaje (el valor está multiplicado por 100)</td>\n",
       "    </tr>\n",
       "    <tr>\n",
       "      <th>4</th>\n",
       "      <td>20.0</td>\n",
       "      <td>Cesar</td>\n",
       "      <td>20013.0</td>\n",
       "      <td>Agustín Codazzi</td>\n",
       "      <td>Educación</td>\n",
       "      <td>Acceso a la educación</td>\n",
       "      <td>Cobertura bruta en transición</td>\n",
       "      <td>120.82</td>\n",
       "      <td>NaN</td>\n",
       "      <td>2005.0</td>\n",
       "      <td>12.0</td>\n",
       "      <td>Ministerio de Educación Nacional</td>\n",
       "      <td>Porcentaje (el valor está multiplicado por 100)</td>\n",
       "    </tr>\n",
       "  </tbody>\n",
       "</table>\n",
       "</div>"
      ],
      "text/plain": [
       "   Código Departamento Departamento  Código Entidad          Entidad  \\\n",
       "0                  NaN          NaN             NaN              NaN   \n",
       "1                 20.0        Cesar         20000.0            Cesar   \n",
       "2                 20.0        Cesar         20001.0       Valledupar   \n",
       "3                 20.0        Cesar         20011.0        Aguachica   \n",
       "4                 20.0        Cesar         20013.0  Agustín Codazzi   \n",
       "\n",
       "   Dimensión           Subcategoría  \\\n",
       "0        NaN                    NaN   \n",
       "1  Educación  Acceso a la educación   \n",
       "2  Educación  Acceso a la educación   \n",
       "3  Educación  Acceso a la educación   \n",
       "4  Educación  Acceso a la educación   \n",
       "\n",
       "                                           Indicador  Dato Numérico  \\\n",
       "0  aaaaaaaaaaaaaaaaaaaaaaaaaaaaaaaaaaaaaaaaaaaaaa...            NaN   \n",
       "1                      Cobertura bruta en transición         122.39   \n",
       "2                      Cobertura bruta en transición          98.26   \n",
       "3                      Cobertura bruta en transición         107.07   \n",
       "4                      Cobertura bruta en transición         120.82   \n",
       "\n",
       "   Dato Cualitativo     Año   Mes  \\\n",
       "0               NaN     NaN   NaN   \n",
       "1               NaN  2005.0  12.0   \n",
       "2               NaN  2005.0  12.0   \n",
       "3               NaN  2005.0  12.0   \n",
       "4               NaN  2005.0  12.0   \n",
       "\n",
       "                                              Fuente  \\\n",
       "0  aaaaaaaaaaaaaaaaaaaaaaaaaaaaaaaaaaaaaaaaaaaaaa...   \n",
       "1                   Ministerio de Educación Nacional   \n",
       "2                   Ministerio de Educación Nacional   \n",
       "3                   Ministerio de Educación Nacional   \n",
       "4                   Ministerio de Educación Nacional   \n",
       "\n",
       "                                  Unidad de Medida  \n",
       "0                                              NaN  \n",
       "1  Porcentaje (el valor está multiplicado por 100)  \n",
       "2  Porcentaje (el valor está multiplicado por 100)  \n",
       "3  Porcentaje (el valor está multiplicado por 100)  \n",
       "4  Porcentaje (el valor está multiplicado por 100)  "
      ]
     },
     "execution_count": 92,
     "metadata": {},
     "output_type": "execute_result"
    }
   ],
   "source": [
    "df_educacion.head()"
   ]
  },
  {
   "cell_type": "code",
   "execution_count": 93,
   "metadata": {},
   "outputs": [
    {
     "name": "stdout",
     "output_type": "stream",
     "text": [
      "<class 'pandas.core.frame.DataFrame'>\n",
      "RangeIndex: 291757 entries, 0 to 291756\n",
      "Data columns (total 13 columns):\n",
      " #   Column               Non-Null Count   Dtype  \n",
      "---  ------               --------------   -----  \n",
      " 0   Código Departamento  291756 non-null  float64\n",
      " 1   Departamento         291756 non-null  object \n",
      " 2   Código Entidad       291756 non-null  float64\n",
      " 3   Entidad              291756 non-null  object \n",
      " 4   Dimensión            291756 non-null  object \n",
      " 5   Subcategoría         291756 non-null  object \n",
      " 6   Indicador            291757 non-null  object \n",
      " 7   Dato Numérico        269714 non-null  float64\n",
      " 8   Dato Cualitativo     0 non-null       float64\n",
      " 9   Año                  291756 non-null  float64\n",
      " 10  Mes                  291756 non-null  float64\n",
      " 11  Fuente               291757 non-null  object \n",
      " 12  Unidad de Medida     291756 non-null  object \n",
      "dtypes: float64(6), object(7)\n",
      "memory usage: 28.9+ MB\n"
     ]
    }
   ],
   "source": [
    "df_educacion.info()"
   ]
  },
  {
   "cell_type": "code",
   "execution_count": 94,
   "metadata": {},
   "outputs": [
    {
     "data": {
      "text/plain": [
       "(291757, 13)"
      ]
     },
     "execution_count": 94,
     "metadata": {},
     "output_type": "execute_result"
    }
   ],
   "source": [
    "df_educacion.shape"
   ]
  },
  {
   "cell_type": "code",
   "execution_count": 95,
   "metadata": {},
   "outputs": [
    {
     "data": {
      "text/plain": [
       "Código Departamento         1\n",
       "Departamento                1\n",
       "Código Entidad              1\n",
       "Entidad                     1\n",
       "Dimensión                   1\n",
       "Subcategoría                1\n",
       "Indicador                   0\n",
       "Dato Numérico           22043\n",
       "Dato Cualitativo       291757\n",
       "Año                         1\n",
       "Mes                         1\n",
       "Fuente                      0\n",
       "Unidad de Medida            1\n",
       "dtype: int64"
      ]
     },
     "execution_count": 95,
     "metadata": {},
     "output_type": "execute_result"
    }
   ],
   "source": [
    "df_educacion.isnull().sum()"
   ]
  },
  {
   "cell_type": "markdown",
   "metadata": {},
   "source": [
    "## Salud"
   ]
  },
  {
   "cell_type": "code",
   "execution_count": 96,
   "metadata": {},
   "outputs": [
    {
     "data": {
      "text/html": [
       "<div>\n",
       "<style scoped>\n",
       "    .dataframe tbody tr th:only-of-type {\n",
       "        vertical-align: middle;\n",
       "    }\n",
       "\n",
       "    .dataframe tbody tr th {\n",
       "        vertical-align: top;\n",
       "    }\n",
       "\n",
       "    .dataframe thead th {\n",
       "        text-align: right;\n",
       "    }\n",
       "</style>\n",
       "<table border=\"1\" class=\"dataframe\">\n",
       "  <thead>\n",
       "    <tr style=\"text-align: right;\">\n",
       "      <th></th>\n",
       "      <th>Código Departamento</th>\n",
       "      <th>Departamento</th>\n",
       "      <th>Código Entidad</th>\n",
       "      <th>Entidad</th>\n",
       "      <th>Dimensión</th>\n",
       "      <th>Subcategoría</th>\n",
       "      <th>Indicador</th>\n",
       "      <th>Dato Numérico</th>\n",
       "      <th>Dato Cualitativo</th>\n",
       "      <th>Año</th>\n",
       "      <th>Mes</th>\n",
       "      <th>Fuente</th>\n",
       "      <th>Unidad de Medida</th>\n",
       "    </tr>\n",
       "  </thead>\n",
       "  <tbody>\n",
       "    <tr>\n",
       "      <th>0</th>\n",
       "      <td>1</td>\n",
       "      <td>Colombia</td>\n",
       "      <td>1001</td>\n",
       "      <td>Colombia</td>\n",
       "      <td>Salud</td>\n",
       "      <td>Aseguramiento</td>\n",
       "      <td>Afiliados al régimen contributivo</td>\n",
       "      <td>19.957.739,00</td>\n",
       "      <td>NaN</td>\n",
       "      <td>2012</td>\n",
       "      <td>12</td>\n",
       "      <td>Ministerio de Salud y Protección Social</td>\n",
       "      <td>Personas</td>\n",
       "    </tr>\n",
       "    <tr>\n",
       "      <th>1</th>\n",
       "      <td>5</td>\n",
       "      <td>Antioquia</td>\n",
       "      <td>5000</td>\n",
       "      <td>Antioquia</td>\n",
       "      <td>Salud</td>\n",
       "      <td>Aseguramiento</td>\n",
       "      <td>Afiliados al régimen contributivo</td>\n",
       "      <td>3.220.651,00</td>\n",
       "      <td>NaN</td>\n",
       "      <td>2012</td>\n",
       "      <td>12</td>\n",
       "      <td>Ministerio de Salud y Protección Social</td>\n",
       "      <td>Personas</td>\n",
       "    </tr>\n",
       "    <tr>\n",
       "      <th>2</th>\n",
       "      <td>5</td>\n",
       "      <td>Antioquia</td>\n",
       "      <td>5001</td>\n",
       "      <td>Medellín</td>\n",
       "      <td>Salud</td>\n",
       "      <td>Aseguramiento</td>\n",
       "      <td>Afiliados al régimen contributivo</td>\n",
       "      <td>1.673.771,00</td>\n",
       "      <td>NaN</td>\n",
       "      <td>2012</td>\n",
       "      <td>12</td>\n",
       "      <td>Ministerio de Salud y Protección Social</td>\n",
       "      <td>Personas</td>\n",
       "    </tr>\n",
       "    <tr>\n",
       "      <th>3</th>\n",
       "      <td>5</td>\n",
       "      <td>Antioquia</td>\n",
       "      <td>5002</td>\n",
       "      <td>Abejorral</td>\n",
       "      <td>Salud</td>\n",
       "      <td>Aseguramiento</td>\n",
       "      <td>Afiliados al régimen contributivo</td>\n",
       "      <td>2.514,00</td>\n",
       "      <td>NaN</td>\n",
       "      <td>2012</td>\n",
       "      <td>12</td>\n",
       "      <td>Ministerio de Salud y Protección Social</td>\n",
       "      <td>Personas</td>\n",
       "    </tr>\n",
       "    <tr>\n",
       "      <th>4</th>\n",
       "      <td>5</td>\n",
       "      <td>Antioquia</td>\n",
       "      <td>5004</td>\n",
       "      <td>Abriaquí</td>\n",
       "      <td>Salud</td>\n",
       "      <td>Aseguramiento</td>\n",
       "      <td>Afiliados al régimen contributivo</td>\n",
       "      <td>217</td>\n",
       "      <td>NaN</td>\n",
       "      <td>2012</td>\n",
       "      <td>12</td>\n",
       "      <td>Ministerio de Salud y Protección Social</td>\n",
       "      <td>Personas</td>\n",
       "    </tr>\n",
       "  </tbody>\n",
       "</table>\n",
       "</div>"
      ],
      "text/plain": [
       "   Código Departamento Departamento  Código Entidad    Entidad Dimensión  \\\n",
       "0                    1     Colombia            1001   Colombia     Salud   \n",
       "1                    5    Antioquia            5000  Antioquia     Salud   \n",
       "2                    5    Antioquia            5001   Medellín     Salud   \n",
       "3                    5    Antioquia            5002  Abejorral     Salud   \n",
       "4                    5    Antioquia            5004   Abriaquí     Salud   \n",
       "\n",
       "    Subcategoría                          Indicador  Dato Numérico  \\\n",
       "0  Aseguramiento  Afiliados al régimen contributivo  19.957.739,00   \n",
       "1  Aseguramiento  Afiliados al régimen contributivo   3.220.651,00   \n",
       "2  Aseguramiento  Afiliados al régimen contributivo   1.673.771,00   \n",
       "3  Aseguramiento  Afiliados al régimen contributivo       2.514,00   \n",
       "4  Aseguramiento  Afiliados al régimen contributivo            217   \n",
       "\n",
       "   Dato Cualitativo   Año  Mes                                   Fuente  \\\n",
       "0               NaN  2012   12  Ministerio de Salud y Protección Social   \n",
       "1               NaN  2012   12  Ministerio de Salud y Protección Social   \n",
       "2               NaN  2012   12  Ministerio de Salud y Protección Social   \n",
       "3               NaN  2012   12  Ministerio de Salud y Protección Social   \n",
       "4               NaN  2012   12  Ministerio de Salud y Protección Social   \n",
       "\n",
       "  Unidad de Medida  \n",
       "0         Personas  \n",
       "1         Personas  \n",
       "2         Personas  \n",
       "3         Personas  \n",
       "4         Personas  "
      ]
     },
     "execution_count": 96,
     "metadata": {},
     "output_type": "execute_result"
    }
   ],
   "source": [
    "df_salud.head()"
   ]
  },
  {
   "cell_type": "code",
   "execution_count": 97,
   "metadata": {},
   "outputs": [
    {
     "name": "stdout",
     "output_type": "stream",
     "text": [
      "<class 'pandas.core.frame.DataFrame'>\n",
      "RangeIndex: 411258 entries, 0 to 411257\n",
      "Data columns (total 13 columns):\n",
      " #   Column               Non-Null Count   Dtype  \n",
      "---  ------               --------------   -----  \n",
      " 0   Código Departamento  411258 non-null  int64  \n",
      " 1   Departamento         411258 non-null  object \n",
      " 2   Código Entidad       411258 non-null  int64  \n",
      " 3   Entidad              411258 non-null  object \n",
      " 4   Dimensión            411258 non-null  object \n",
      " 5   Subcategoría         411258 non-null  object \n",
      " 6   Indicador            411258 non-null  object \n",
      " 7   Dato Numérico        332002 non-null  object \n",
      " 8   Dato Cualitativo     0 non-null       float64\n",
      " 9   Año                  411258 non-null  int64  \n",
      " 10  Mes                  411258 non-null  int64  \n",
      " 11  Fuente               411258 non-null  object \n",
      " 12  Unidad de Medida     411258 non-null  object \n",
      "dtypes: float64(1), int64(4), object(8)\n",
      "memory usage: 40.8+ MB\n"
     ]
    }
   ],
   "source": [
    "df_salud.info()"
   ]
  },
  {
   "cell_type": "code",
   "execution_count": 98,
   "metadata": {},
   "outputs": [
    {
     "data": {
      "text/plain": [
       "(411258, 13)"
      ]
     },
     "execution_count": 98,
     "metadata": {},
     "output_type": "execute_result"
    }
   ],
   "source": [
    "df_salud.shape"
   ]
  },
  {
   "cell_type": "code",
   "execution_count": 99,
   "metadata": {},
   "outputs": [
    {
     "data": {
      "text/plain": [
       "Código Departamento         0\n",
       "Departamento                0\n",
       "Código Entidad              0\n",
       "Entidad                     0\n",
       "Dimensión                   0\n",
       "Subcategoría                0\n",
       "Indicador                   0\n",
       "Dato Numérico           79256\n",
       "Dato Cualitativo       411258\n",
       "Año                         0\n",
       "Mes                         0\n",
       "Fuente                      0\n",
       "Unidad de Medida            0\n",
       "dtype: int64"
      ]
     },
     "execution_count": 99,
     "metadata": {},
     "output_type": "execute_result"
    }
   ],
   "source": [
    "df_salud.isnull().sum()"
   ]
  },
  {
   "cell_type": "markdown",
   "metadata": {},
   "source": [
    "## Vivienda"
   ]
  },
  {
   "cell_type": "code",
   "execution_count": 100,
   "metadata": {},
   "outputs": [
    {
     "data": {
      "text/html": [
       "<div>\n",
       "<style scoped>\n",
       "    .dataframe tbody tr th:only-of-type {\n",
       "        vertical-align: middle;\n",
       "    }\n",
       "\n",
       "    .dataframe tbody tr th {\n",
       "        vertical-align: top;\n",
       "    }\n",
       "\n",
       "    .dataframe thead th {\n",
       "        text-align: right;\n",
       "    }\n",
       "</style>\n",
       "<table border=\"1\" class=\"dataframe\">\n",
       "  <thead>\n",
       "    <tr style=\"text-align: right;\">\n",
       "      <th></th>\n",
       "      <th>Código Departamento</th>\n",
       "      <th>Departamento</th>\n",
       "      <th>Código Entidad</th>\n",
       "      <th>Entidad</th>\n",
       "      <th>Dimensión</th>\n",
       "      <th>Subcategoría</th>\n",
       "      <th>Indicador</th>\n",
       "      <th>Dato Numérico</th>\n",
       "      <th>Dato Cualitativo</th>\n",
       "      <th>Año</th>\n",
       "      <th>Mes</th>\n",
       "      <th>Fuente</th>\n",
       "      <th>Unidad de Medida</th>\n",
       "    </tr>\n",
       "  </thead>\n",
       "  <tbody>\n",
       "    <tr>\n",
       "      <th>0</th>\n",
       "      <td>NaN</td>\n",
       "      <td>NaN</td>\n",
       "      <td>NaN</td>\n",
       "      <td>NaN</td>\n",
       "      <td>NaN</td>\n",
       "      <td>NaN</td>\n",
       "      <td>aaaaaaaaaaaaaaaaaaaaaaaaaaaaaaaaaaaaaaaaaaaaaa...</td>\n",
       "      <td>NaN</td>\n",
       "      <td>NaN</td>\n",
       "      <td>NaN</td>\n",
       "      <td>NaN</td>\n",
       "      <td>aaaaaaaaaaaaaaaaaaaaaaaaaaaaaaaaaaaaaaaaaaaaaa...</td>\n",
       "      <td>NaN</td>\n",
       "    </tr>\n",
       "    <tr>\n",
       "      <th>1</th>\n",
       "      <td>1.0</td>\n",
       "      <td>Colombia</td>\n",
       "      <td>1001.0</td>\n",
       "      <td>Colombia</td>\n",
       "      <td>Vivienda y acceso a servicios públicos</td>\n",
       "      <td>Vivienda y acceso a servicios públicos</td>\n",
       "      <td>Cobertura de energía eléctrica rural</td>\n",
       "      <td>95.79</td>\n",
       "      <td>NaN</td>\n",
       "      <td>2011.0</td>\n",
       "      <td>12.0</td>\n",
       "      <td>UPME</td>\n",
       "      <td>Porcentaje (el valor está multiplicado por 100)</td>\n",
       "    </tr>\n",
       "    <tr>\n",
       "      <th>2</th>\n",
       "      <td>5.0</td>\n",
       "      <td>Antioquia</td>\n",
       "      <td>5000.0</td>\n",
       "      <td>Antioquia</td>\n",
       "      <td>Vivienda y acceso a servicios públicos</td>\n",
       "      <td>Vivienda y acceso a servicios públicos</td>\n",
       "      <td>Cobertura de energía eléctrica rural</td>\n",
       "      <td>98.05</td>\n",
       "      <td>NaN</td>\n",
       "      <td>2011.0</td>\n",
       "      <td>12.0</td>\n",
       "      <td>UPME</td>\n",
       "      <td>Porcentaje (el valor está multiplicado por 100)</td>\n",
       "    </tr>\n",
       "    <tr>\n",
       "      <th>3</th>\n",
       "      <td>5.0</td>\n",
       "      <td>Antioquia</td>\n",
       "      <td>5001.0</td>\n",
       "      <td>Medellín</td>\n",
       "      <td>Vivienda y acceso a servicios públicos</td>\n",
       "      <td>Vivienda y acceso a servicios públicos</td>\n",
       "      <td>Cobertura de energía eléctrica rural</td>\n",
       "      <td>100.00</td>\n",
       "      <td>NaN</td>\n",
       "      <td>2011.0</td>\n",
       "      <td>12.0</td>\n",
       "      <td>UPME</td>\n",
       "      <td>Porcentaje (el valor está multiplicado por 100)</td>\n",
       "    </tr>\n",
       "    <tr>\n",
       "      <th>4</th>\n",
       "      <td>5.0</td>\n",
       "      <td>Antioquia</td>\n",
       "      <td>5002.0</td>\n",
       "      <td>Abejorral</td>\n",
       "      <td>Vivienda y acceso a servicios públicos</td>\n",
       "      <td>Vivienda y acceso a servicios públicos</td>\n",
       "      <td>Cobertura de energía eléctrica rural</td>\n",
       "      <td>100.00</td>\n",
       "      <td>NaN</td>\n",
       "      <td>2011.0</td>\n",
       "      <td>12.0</td>\n",
       "      <td>UPME</td>\n",
       "      <td>Porcentaje (el valor está multiplicado por 100)</td>\n",
       "    </tr>\n",
       "  </tbody>\n",
       "</table>\n",
       "</div>"
      ],
      "text/plain": [
       "   Código Departamento Departamento  Código Entidad    Entidad  \\\n",
       "0                  NaN          NaN             NaN        NaN   \n",
       "1                  1.0     Colombia          1001.0   Colombia   \n",
       "2                  5.0    Antioquia          5000.0  Antioquia   \n",
       "3                  5.0    Antioquia          5001.0   Medellín   \n",
       "4                  5.0    Antioquia          5002.0  Abejorral   \n",
       "\n",
       "                                Dimensión  \\\n",
       "0                                     NaN   \n",
       "1  Vivienda y acceso a servicios públicos   \n",
       "2  Vivienda y acceso a servicios públicos   \n",
       "3  Vivienda y acceso a servicios públicos   \n",
       "4  Vivienda y acceso a servicios públicos   \n",
       "\n",
       "                             Subcategoría  \\\n",
       "0                                     NaN   \n",
       "1  Vivienda y acceso a servicios públicos   \n",
       "2  Vivienda y acceso a servicios públicos   \n",
       "3  Vivienda y acceso a servicios públicos   \n",
       "4  Vivienda y acceso a servicios públicos   \n",
       "\n",
       "                                           Indicador  Dato Numérico  \\\n",
       "0  aaaaaaaaaaaaaaaaaaaaaaaaaaaaaaaaaaaaaaaaaaaaaa...            NaN   \n",
       "1               Cobertura de energía eléctrica rural          95.79   \n",
       "2               Cobertura de energía eléctrica rural          98.05   \n",
       "3               Cobertura de energía eléctrica rural         100.00   \n",
       "4               Cobertura de energía eléctrica rural         100.00   \n",
       "\n",
       "   Dato Cualitativo     Año   Mes  \\\n",
       "0               NaN     NaN   NaN   \n",
       "1               NaN  2011.0  12.0   \n",
       "2               NaN  2011.0  12.0   \n",
       "3               NaN  2011.0  12.0   \n",
       "4               NaN  2011.0  12.0   \n",
       "\n",
       "                                              Fuente  \\\n",
       "0  aaaaaaaaaaaaaaaaaaaaaaaaaaaaaaaaaaaaaaaaaaaaaa...   \n",
       "1                                               UPME   \n",
       "2                                               UPME   \n",
       "3                                               UPME   \n",
       "4                                               UPME   \n",
       "\n",
       "                                  Unidad de Medida  \n",
       "0                                              NaN  \n",
       "1  Porcentaje (el valor está multiplicado por 100)  \n",
       "2  Porcentaje (el valor está multiplicado por 100)  \n",
       "3  Porcentaje (el valor está multiplicado por 100)  \n",
       "4  Porcentaje (el valor está multiplicado por 100)  "
      ]
     },
     "execution_count": 100,
     "metadata": {},
     "output_type": "execute_result"
    }
   ],
   "source": [
    "df_vivienda.head()"
   ]
  },
  {
   "cell_type": "code",
   "execution_count": 101,
   "metadata": {},
   "outputs": [
    {
     "name": "stdout",
     "output_type": "stream",
     "text": [
      "<class 'pandas.core.frame.DataFrame'>\n",
      "RangeIndex: 220662 entries, 0 to 220661\n",
      "Data columns (total 13 columns):\n",
      " #   Column               Non-Null Count   Dtype  \n",
      "---  ------               --------------   -----  \n",
      " 0   Código Departamento  220661 non-null  float64\n",
      " 1   Departamento         220661 non-null  object \n",
      " 2   Código Entidad       220661 non-null  float64\n",
      " 3   Entidad              220661 non-null  object \n",
      " 4   Dimensión            220661 non-null  object \n",
      " 5   Subcategoría         220661 non-null  object \n",
      " 6   Indicador            220662 non-null  object \n",
      " 7   Dato Numérico        210265 non-null  float64\n",
      " 8   Dato Cualitativo     19260 non-null   float64\n",
      " 9   Año                  220661 non-null  float64\n",
      " 10  Mes                  220661 non-null  float64\n",
      " 11  Fuente               220662 non-null  object \n",
      " 12  Unidad de Medida     220661 non-null  object \n",
      "dtypes: float64(6), object(7)\n",
      "memory usage: 21.9+ MB\n"
     ]
    }
   ],
   "source": [
    "df_vivienda.info()"
   ]
  },
  {
   "cell_type": "code",
   "execution_count": 102,
   "metadata": {},
   "outputs": [
    {
     "data": {
      "text/plain": [
       "(220662, 13)"
      ]
     },
     "execution_count": 102,
     "metadata": {},
     "output_type": "execute_result"
    }
   ],
   "source": [
    "df_vivienda.shape"
   ]
  },
  {
   "cell_type": "code",
   "execution_count": 103,
   "metadata": {},
   "outputs": [
    {
     "data": {
      "text/plain": [
       "Código Departamento         1\n",
       "Departamento                1\n",
       "Código Entidad              1\n",
       "Entidad                     1\n",
       "Dimensión                   1\n",
       "Subcategoría                1\n",
       "Indicador                   0\n",
       "Dato Numérico           10397\n",
       "Dato Cualitativo       201402\n",
       "Año                         1\n",
       "Mes                         1\n",
       "Fuente                      0\n",
       "Unidad de Medida            1\n",
       "dtype: int64"
      ]
     },
     "execution_count": 103,
     "metadata": {},
     "output_type": "execute_result"
    }
   ],
   "source": [
    "df_vivienda.isnull().sum()"
   ]
  },
  {
   "cell_type": "markdown",
   "metadata": {},
   "source": [
    "# Limpieza de los datos"
   ]
  },
  {
   "cell_type": "code",
   "execution_count": 104,
   "metadata": {},
   "outputs": [],
   "source": [
    "#----------------------------------------------------Copia de todo----------------------------------------------------\n",
    "df_conflicto_t = df_conflicto.copy()\n",
    "df_educacion_t = df_educacion.copy()\n",
    "df_salud_t = df_salud.copy()\n",
    "df_vivienda_t = df_vivienda.copy()\n"
   ]
  },
  {
   "cell_type": "code",
   "execution_count": 105,
   "metadata": {},
   "outputs": [],
   "source": [
    "#--------------------------------Quitar dulicados------------------------\n",
    "df_conflicto_t = df_conflicto_t.drop_duplicates()\n",
    "df_educacion_t = df_educacion_t.drop_duplicates()\n",
    "df_salud_t = df_salud_t.drop_duplicates()\n",
    "df_vivienda_t = df_vivienda_t.drop_duplicates()"
   ]
  },
  {
   "cell_type": "code",
   "execution_count": 106,
   "metadata": {},
   "outputs": [],
   "source": [
    "df_conflicto_t = df_conflicto_t.drop(['Dato Cualitativo','Mes','Dimensión'], axis =1)\n",
    "df_educacion_t = df_educacion_t.drop(['Dato Cualitativo','Dimensión'], axis =1)\n",
    "df_salud_t = df_salud_t.drop(['Dato Cualitativo','Dimensión'], axis =1)\n",
    "df_vivienda_t = df_vivienda_t.drop(['Dato Cualitativo','Dimensión','Subcategoría'], axis =1)"
   ]
  },
  {
   "cell_type": "code",
   "execution_count": 107,
   "metadata": {},
   "outputs": [],
   "source": [
    "df_conflicto_t.columns=[ 'CodigoDepartamento', 'Departamento', 'CodigoEntidad', 'Entidad', 'Subcategoria', 'Indicador', 'DatoNumerico', 'Anio', 'Fuente', 'UnidadDeMedida']\n",
    "df_educacion_t.columns=[ 'CodigoDepartamento', 'Departamento', 'CodigoEntidad', 'Entidad', 'Subcategoria', 'Indicador', 'DatoNumerico', 'Anio', 'Mes', 'Fuente', 'UnidadDeMedida']\n",
    "df_salud_t.columns=[ 'CodigoDepartamento', 'Departamento', 'CodigoEntidad', 'Entidad', 'Subcategoria', 'Indicador', 'DatoNumerico', 'Anio', 'Mes', 'Fuente', 'UnidadDeMedida']\n",
    "df_vivienda_t.columns=[ 'CodigoDepartamento', 'Departamento', 'CodigoEntidad', 'Entidad', 'Indicador', 'DatoNumerico', 'Anio', 'Mes', 'Fuente', 'UnidadDeMedida']"
   ]
  },
  {
   "cell_type": "code",
   "execution_count": 108,
   "metadata": {},
   "outputs": [],
   "source": [
    "def isColombia (col ,row):\n",
    "    if row[col] == \"Colombia\" :\n",
    "        return 1\n",
    "    return 0"
   ]
  },
  {
   "cell_type": "code",
   "execution_count": 109,
   "metadata": {},
   "outputs": [],
   "source": [
    "\n",
    "df_conflicto_c = df_conflicto_t.copy()\n",
    "df_conflicto_c['Entidad']=df_conflicto_c.apply (lambda row: isColombia(\"Entidad\",row), axis=1)\n"
   ]
  },
  {
   "cell_type": "code",
   "execution_count": 110,
   "metadata": {},
   "outputs": [
    {
     "data": {
      "text/plain": [
       "0    313565\n",
       "1       554\n",
       "Name: Entidad, dtype: int64"
      ]
     },
     "execution_count": 110,
     "metadata": {},
     "output_type": "execute_result"
    }
   ],
   "source": [
    "df_conflicto_c['Entidad'].value_counts()"
   ]
  },
  {
   "cell_type": "code",
   "execution_count": 111,
   "metadata": {},
   "outputs": [],
   "source": [
    "df_conflicto_t=df_conflicto_t.drop(df_conflicto_t[df_conflicto_t['Entidad']=='Colombia'].index)\n"
   ]
  },
  {
   "cell_type": "code",
   "execution_count": 112,
   "metadata": {},
   "outputs": [],
   "source": [
    "df_conflicto_t=df_conflicto_t.drop(0)"
   ]
  },
  {
   "cell_type": "code",
   "execution_count": 113,
   "metadata": {},
   "outputs": [
    {
     "data": {
      "text/html": [
       "<div>\n",
       "<style scoped>\n",
       "    .dataframe tbody tr th:only-of-type {\n",
       "        vertical-align: middle;\n",
       "    }\n",
       "\n",
       "    .dataframe tbody tr th {\n",
       "        vertical-align: top;\n",
       "    }\n",
       "\n",
       "    .dataframe thead th {\n",
       "        text-align: right;\n",
       "    }\n",
       "</style>\n",
       "<table border=\"1\" class=\"dataframe\">\n",
       "  <thead>\n",
       "    <tr style=\"text-align: right;\">\n",
       "      <th></th>\n",
       "      <th>CodigoDepartamento</th>\n",
       "      <th>Departamento</th>\n",
       "      <th>CodigoEntidad</th>\n",
       "      <th>Entidad</th>\n",
       "      <th>Subcategoria</th>\n",
       "      <th>Indicador</th>\n",
       "      <th>DatoNumerico</th>\n",
       "      <th>Anio</th>\n",
       "      <th>Fuente</th>\n",
       "      <th>UnidadDeMedida</th>\n",
       "    </tr>\n",
       "  </thead>\n",
       "  <tbody>\n",
       "    <tr>\n",
       "      <th>2</th>\n",
       "      <td>5.0</td>\n",
       "      <td>Antioquia</td>\n",
       "      <td>5000.0</td>\n",
       "      <td>Antioquia</td>\n",
       "      <td>Conflicto armado</td>\n",
       "      <td>Número acumulado de personas secuestradas</td>\n",
       "      <td>8.246,00</td>\n",
       "      <td>2017.0</td>\n",
       "      <td>Unidad para la Atención y Reparación Integral ...</td>\n",
       "      <td>Personas</td>\n",
       "    </tr>\n",
       "    <tr>\n",
       "      <th>3</th>\n",
       "      <td>5.0</td>\n",
       "      <td>Antioquia</td>\n",
       "      <td>5001.0</td>\n",
       "      <td>Medellín</td>\n",
       "      <td>Conflicto armado</td>\n",
       "      <td>Número acumulado de personas secuestradas</td>\n",
       "      <td>516,00</td>\n",
       "      <td>2017.0</td>\n",
       "      <td>Unidad para la Atención y Reparación Integral ...</td>\n",
       "      <td>Personas</td>\n",
       "    </tr>\n",
       "    <tr>\n",
       "      <th>4</th>\n",
       "      <td>5.0</td>\n",
       "      <td>Antioquia</td>\n",
       "      <td>5002.0</td>\n",
       "      <td>Abejorral</td>\n",
       "      <td>Conflicto armado</td>\n",
       "      <td>Número acumulado de personas secuestradas</td>\n",
       "      <td>75,00</td>\n",
       "      <td>2017.0</td>\n",
       "      <td>Unidad para la Atención y Reparación Integral ...</td>\n",
       "      <td>Personas</td>\n",
       "    </tr>\n",
       "    <tr>\n",
       "      <th>5</th>\n",
       "      <td>5.0</td>\n",
       "      <td>Antioquia</td>\n",
       "      <td>5004.0</td>\n",
       "      <td>Abriaquí</td>\n",
       "      <td>Conflicto armado</td>\n",
       "      <td>Número acumulado de personas secuestradas</td>\n",
       "      <td>23,00</td>\n",
       "      <td>2017.0</td>\n",
       "      <td>Unidad para la Atención y Reparación Integral ...</td>\n",
       "      <td>Personas</td>\n",
       "    </tr>\n",
       "    <tr>\n",
       "      <th>6</th>\n",
       "      <td>5.0</td>\n",
       "      <td>Antioquia</td>\n",
       "      <td>5021.0</td>\n",
       "      <td>Alejandría</td>\n",
       "      <td>Conflicto armado</td>\n",
       "      <td>Número acumulado de personas secuestradas</td>\n",
       "      <td>81,00</td>\n",
       "      <td>2017.0</td>\n",
       "      <td>Unidad para la Atención y Reparación Integral ...</td>\n",
       "      <td>Personas</td>\n",
       "    </tr>\n",
       "  </tbody>\n",
       "</table>\n",
       "</div>"
      ],
      "text/plain": [
       "   CodigoDepartamento Departamento  CodigoEntidad     Entidad  \\\n",
       "2                 5.0    Antioquia         5000.0   Antioquia   \n",
       "3                 5.0    Antioquia         5001.0    Medellín   \n",
       "4                 5.0    Antioquia         5002.0   Abejorral   \n",
       "5                 5.0    Antioquia         5004.0    Abriaquí   \n",
       "6                 5.0    Antioquia         5021.0  Alejandría   \n",
       "\n",
       "       Subcategoria                                  Indicador DatoNumerico  \\\n",
       "2  Conflicto armado  Número acumulado de personas secuestradas     8.246,00   \n",
       "3  Conflicto armado  Número acumulado de personas secuestradas       516,00   \n",
       "4  Conflicto armado  Número acumulado de personas secuestradas        75,00   \n",
       "5  Conflicto armado  Número acumulado de personas secuestradas        23,00   \n",
       "6  Conflicto armado  Número acumulado de personas secuestradas        81,00   \n",
       "\n",
       "     Anio                                             Fuente UnidadDeMedida  \n",
       "2  2017.0  Unidad para la Atención y Reparación Integral ...       Personas  \n",
       "3  2017.0  Unidad para la Atención y Reparación Integral ...       Personas  \n",
       "4  2017.0  Unidad para la Atención y Reparación Integral ...       Personas  \n",
       "5  2017.0  Unidad para la Atención y Reparación Integral ...       Personas  \n",
       "6  2017.0  Unidad para la Atención y Reparación Integral ...       Personas  "
      ]
     },
     "execution_count": 113,
     "metadata": {},
     "output_type": "execute_result"
    }
   ],
   "source": [
    "df_conflicto_t.head()"
   ]
  },
  {
   "cell_type": "code",
   "execution_count": 114,
   "metadata": {},
   "outputs": [],
   "source": [
    "df_educacion_t=df_educacion_t.drop(df_educacion_t[df_educacion_t['Entidad']=='Colombia'].index)\n"
   ]
  },
  {
   "cell_type": "code",
   "execution_count": 115,
   "metadata": {},
   "outputs": [],
   "source": [
    "df_educacion_t=df_educacion_t.drop(0)"
   ]
  },
  {
   "cell_type": "code",
   "execution_count": 116,
   "metadata": {},
   "outputs": [
    {
     "data": {
      "text/html": [
       "<div>\n",
       "<style scoped>\n",
       "    .dataframe tbody tr th:only-of-type {\n",
       "        vertical-align: middle;\n",
       "    }\n",
       "\n",
       "    .dataframe tbody tr th {\n",
       "        vertical-align: top;\n",
       "    }\n",
       "\n",
       "    .dataframe thead th {\n",
       "        text-align: right;\n",
       "    }\n",
       "</style>\n",
       "<table border=\"1\" class=\"dataframe\">\n",
       "  <thead>\n",
       "    <tr style=\"text-align: right;\">\n",
       "      <th></th>\n",
       "      <th>CodigoDepartamento</th>\n",
       "      <th>Departamento</th>\n",
       "      <th>CodigoEntidad</th>\n",
       "      <th>Entidad</th>\n",
       "      <th>Subcategoria</th>\n",
       "      <th>Indicador</th>\n",
       "      <th>DatoNumerico</th>\n",
       "      <th>Anio</th>\n",
       "      <th>Mes</th>\n",
       "      <th>Fuente</th>\n",
       "      <th>UnidadDeMedida</th>\n",
       "    </tr>\n",
       "  </thead>\n",
       "  <tbody>\n",
       "    <tr>\n",
       "      <th>1</th>\n",
       "      <td>20.0</td>\n",
       "      <td>Cesar</td>\n",
       "      <td>20000.0</td>\n",
       "      <td>Cesar</td>\n",
       "      <td>Acceso a la educación</td>\n",
       "      <td>Cobertura bruta en transición</td>\n",
       "      <td>122.39</td>\n",
       "      <td>2005.0</td>\n",
       "      <td>12.0</td>\n",
       "      <td>Ministerio de Educación Nacional</td>\n",
       "      <td>Porcentaje (el valor está multiplicado por 100)</td>\n",
       "    </tr>\n",
       "    <tr>\n",
       "      <th>2</th>\n",
       "      <td>20.0</td>\n",
       "      <td>Cesar</td>\n",
       "      <td>20001.0</td>\n",
       "      <td>Valledupar</td>\n",
       "      <td>Acceso a la educación</td>\n",
       "      <td>Cobertura bruta en transición</td>\n",
       "      <td>98.26</td>\n",
       "      <td>2005.0</td>\n",
       "      <td>12.0</td>\n",
       "      <td>Ministerio de Educación Nacional</td>\n",
       "      <td>Porcentaje (el valor está multiplicado por 100)</td>\n",
       "    </tr>\n",
       "    <tr>\n",
       "      <th>3</th>\n",
       "      <td>20.0</td>\n",
       "      <td>Cesar</td>\n",
       "      <td>20011.0</td>\n",
       "      <td>Aguachica</td>\n",
       "      <td>Acceso a la educación</td>\n",
       "      <td>Cobertura bruta en transición</td>\n",
       "      <td>107.07</td>\n",
       "      <td>2005.0</td>\n",
       "      <td>12.0</td>\n",
       "      <td>Ministerio de Educación Nacional</td>\n",
       "      <td>Porcentaje (el valor está multiplicado por 100)</td>\n",
       "    </tr>\n",
       "    <tr>\n",
       "      <th>4</th>\n",
       "      <td>20.0</td>\n",
       "      <td>Cesar</td>\n",
       "      <td>20013.0</td>\n",
       "      <td>Agustín Codazzi</td>\n",
       "      <td>Acceso a la educación</td>\n",
       "      <td>Cobertura bruta en transición</td>\n",
       "      <td>120.82</td>\n",
       "      <td>2005.0</td>\n",
       "      <td>12.0</td>\n",
       "      <td>Ministerio de Educación Nacional</td>\n",
       "      <td>Porcentaje (el valor está multiplicado por 100)</td>\n",
       "    </tr>\n",
       "    <tr>\n",
       "      <th>5</th>\n",
       "      <td>20.0</td>\n",
       "      <td>Cesar</td>\n",
       "      <td>20032.0</td>\n",
       "      <td>Astrea</td>\n",
       "      <td>Acceso a la educación</td>\n",
       "      <td>Cobertura bruta en transición</td>\n",
       "      <td>192.25</td>\n",
       "      <td>2005.0</td>\n",
       "      <td>12.0</td>\n",
       "      <td>Ministerio de Educación Nacional</td>\n",
       "      <td>Porcentaje (el valor está multiplicado por 100)</td>\n",
       "    </tr>\n",
       "  </tbody>\n",
       "</table>\n",
       "</div>"
      ],
      "text/plain": [
       "   CodigoDepartamento Departamento  CodigoEntidad          Entidad  \\\n",
       "1                20.0        Cesar        20000.0            Cesar   \n",
       "2                20.0        Cesar        20001.0       Valledupar   \n",
       "3                20.0        Cesar        20011.0        Aguachica   \n",
       "4                20.0        Cesar        20013.0  Agustín Codazzi   \n",
       "5                20.0        Cesar        20032.0           Astrea   \n",
       "\n",
       "            Subcategoria                      Indicador  DatoNumerico    Anio  \\\n",
       "1  Acceso a la educación  Cobertura bruta en transición        122.39  2005.0   \n",
       "2  Acceso a la educación  Cobertura bruta en transición         98.26  2005.0   \n",
       "3  Acceso a la educación  Cobertura bruta en transición        107.07  2005.0   \n",
       "4  Acceso a la educación  Cobertura bruta en transición        120.82  2005.0   \n",
       "5  Acceso a la educación  Cobertura bruta en transición        192.25  2005.0   \n",
       "\n",
       "    Mes                            Fuente  \\\n",
       "1  12.0  Ministerio de Educación Nacional   \n",
       "2  12.0  Ministerio de Educación Nacional   \n",
       "3  12.0  Ministerio de Educación Nacional   \n",
       "4  12.0  Ministerio de Educación Nacional   \n",
       "5  12.0  Ministerio de Educación Nacional   \n",
       "\n",
       "                                    UnidadDeMedida  \n",
       "1  Porcentaje (el valor está multiplicado por 100)  \n",
       "2  Porcentaje (el valor está multiplicado por 100)  \n",
       "3  Porcentaje (el valor está multiplicado por 100)  \n",
       "4  Porcentaje (el valor está multiplicado por 100)  \n",
       "5  Porcentaje (el valor está multiplicado por 100)  "
      ]
     },
     "execution_count": 116,
     "metadata": {},
     "output_type": "execute_result"
    }
   ],
   "source": [
    "df_educacion_t.head()"
   ]
  },
  {
   "cell_type": "code",
   "execution_count": 117,
   "metadata": {},
   "outputs": [
    {
     "data": {
      "text/plain": [
       "(410510, 11)"
      ]
     },
     "execution_count": 117,
     "metadata": {},
     "output_type": "execute_result"
    }
   ],
   "source": [
    "df_salud_t=df_salud_t.drop(df_salud_t[df_salud_t['Entidad']=='Colombia'].index)\n",
    "df_salud_ITS=df_salud_t.copy()\n",
    "\n",
    "df_salud_ITS.shape\n"
   ]
  },
  {
   "cell_type": "code",
   "execution_count": 118,
   "metadata": {},
   "outputs": [],
   "source": [
    "def isITS (col ,row):\n",
    "    if row[col] == \"Motalidad asociada a VIH / SIDA\" :\n",
    "        return \"Motalidad asociada a VIH / SIDA\"\n",
    "    elif row[col] == \"Incidencia del VIH\" :\n",
    "        return \"Incidencia del VIH\"\n",
    "    elif row[col] == \"Incidencia del VIH - Hombre\" :\n",
    "        return \"Incidencia del VIH - Hombre\"\n",
    "    elif row[col] == \"Incidencia del VIH - Mujer\" :\n",
    "        return \"Incidencia del VIH - Mujer\"\n",
    "    else:\n",
    "        return 0"
   ]
  },
  {
   "cell_type": "code",
   "execution_count": 119,
   "metadata": {},
   "outputs": [],
   "source": [
    "df_salud_ITS['Indicador']=df_salud_ITS.apply (lambda row: isITS(\"Indicador\",row), axis=1)\n"
   ]
  },
  {
   "cell_type": "code",
   "execution_count": 120,
   "metadata": {},
   "outputs": [
    {
     "data": {
      "text/plain": [
       "(3972, 11)"
      ]
     },
     "execution_count": 120,
     "metadata": {},
     "output_type": "execute_result"
    }
   ],
   "source": [
    "\n",
    "df_salud_ITS=df_salud_ITS.drop(df_salud_ITS[df_salud_ITS['Indicador']==0].index)\n",
    "df_salud_ITS.shape"
   ]
  },
  {
   "cell_type": "code",
   "execution_count": 121,
   "metadata": {},
   "outputs": [],
   "source": [
    "saludITS=pd.DataFrame(df_salud_ITS)\n",
    "saludITS.to_csv('salud_ITS.csv',encoding='latin1')"
   ]
  },
  {
   "cell_type": "code",
   "execution_count": 122,
   "metadata": {},
   "outputs": [
    {
     "data": {
      "text/plain": [
       "(410510, 11)"
      ]
     },
     "execution_count": 122,
     "metadata": {},
     "output_type": "execute_result"
    }
   ],
   "source": [
    "df_salud_S=df_salud_t.copy()\n",
    "\n",
    "df_salud_S.shape"
   ]
  },
  {
   "cell_type": "code",
   "execution_count": 123,
   "metadata": {},
   "outputs": [],
   "source": [
    "def isSatisfaccion (col ,row):\n",
    "    if row[col] == \"Satisfacción con el servicio de salud - Algo insatisfecho\" :\n",
    "        return \"Satisfacción con el servicio de salud - Algo insatisfecho\"\n",
    "    elif row[col] == \"Satisfacción con el servicio de salud - Muy insatisfecho\" :\n",
    "        return \"Satisfacción con el servicio de salud - Muy insatisfecho\"\n",
    "    elif row[col] == \"Satisfacción con el servicio de salud - No recibió servicio de salud\" :\n",
    "        return \"Satisfacción con el servicio de salud - No recibió servicio de salud\"\n",
    "\n",
    "    else:\n",
    "        return 0"
   ]
  },
  {
   "cell_type": "code",
   "execution_count": 124,
   "metadata": {},
   "outputs": [],
   "source": [
    "df_salud_S['Indicador']=df_salud_S.apply (lambda row: isSatisfaccion(\"Indicador\",row), axis=1)\n"
   ]
  },
  {
   "cell_type": "code",
   "execution_count": 125,
   "metadata": {},
   "outputs": [
    {
     "data": {
      "text/plain": [
       "(3396, 11)"
      ]
     },
     "execution_count": 125,
     "metadata": {},
     "output_type": "execute_result"
    }
   ],
   "source": [
    "df_salud_S=df_salud_S.drop(df_salud_S[df_salud_S['Indicador']==0].index)\n",
    "df_salud_S.shape"
   ]
  },
  {
   "cell_type": "code",
   "execution_count": 126,
   "metadata": {},
   "outputs": [],
   "source": [
    "df_salud_S=pd.DataFrame(df_salud_S)\n",
    "df_salud_S.to_csv('salud_satisfaccion.csv',encoding='latin1')"
   ]
  },
  {
   "cell_type": "code",
   "execution_count": null,
   "metadata": {},
   "outputs": [],
   "source": []
  },
  {
   "cell_type": "code",
   "execution_count": 127,
   "metadata": {},
   "outputs": [
    {
     "data": {
      "text/html": [
       "<div>\n",
       "<style scoped>\n",
       "    .dataframe tbody tr th:only-of-type {\n",
       "        vertical-align: middle;\n",
       "    }\n",
       "\n",
       "    .dataframe tbody tr th {\n",
       "        vertical-align: top;\n",
       "    }\n",
       "\n",
       "    .dataframe thead th {\n",
       "        text-align: right;\n",
       "    }\n",
       "</style>\n",
       "<table border=\"1\" class=\"dataframe\">\n",
       "  <thead>\n",
       "    <tr style=\"text-align: right;\">\n",
       "      <th></th>\n",
       "      <th>CodigoDepartamento</th>\n",
       "      <th>Departamento</th>\n",
       "      <th>CodigoEntidad</th>\n",
       "      <th>Entidad</th>\n",
       "      <th>Subcategoria</th>\n",
       "      <th>Indicador</th>\n",
       "      <th>DatoNumerico</th>\n",
       "      <th>Anio</th>\n",
       "      <th>Mes</th>\n",
       "      <th>Fuente</th>\n",
       "      <th>UnidadDeMedida</th>\n",
       "    </tr>\n",
       "  </thead>\n",
       "  <tbody>\n",
       "    <tr>\n",
       "      <th>1</th>\n",
       "      <td>5</td>\n",
       "      <td>Antioquia</td>\n",
       "      <td>5000</td>\n",
       "      <td>Antioquia</td>\n",
       "      <td>Aseguramiento</td>\n",
       "      <td>Afiliados al régimen contributivo</td>\n",
       "      <td>3.220.651,00</td>\n",
       "      <td>2012</td>\n",
       "      <td>12</td>\n",
       "      <td>Ministerio de Salud y Protección Social</td>\n",
       "      <td>Personas</td>\n",
       "    </tr>\n",
       "    <tr>\n",
       "      <th>2</th>\n",
       "      <td>5</td>\n",
       "      <td>Antioquia</td>\n",
       "      <td>5001</td>\n",
       "      <td>Medellín</td>\n",
       "      <td>Aseguramiento</td>\n",
       "      <td>Afiliados al régimen contributivo</td>\n",
       "      <td>1.673.771,00</td>\n",
       "      <td>2012</td>\n",
       "      <td>12</td>\n",
       "      <td>Ministerio de Salud y Protección Social</td>\n",
       "      <td>Personas</td>\n",
       "    </tr>\n",
       "    <tr>\n",
       "      <th>3</th>\n",
       "      <td>5</td>\n",
       "      <td>Antioquia</td>\n",
       "      <td>5002</td>\n",
       "      <td>Abejorral</td>\n",
       "      <td>Aseguramiento</td>\n",
       "      <td>Afiliados al régimen contributivo</td>\n",
       "      <td>2.514,00</td>\n",
       "      <td>2012</td>\n",
       "      <td>12</td>\n",
       "      <td>Ministerio de Salud y Protección Social</td>\n",
       "      <td>Personas</td>\n",
       "    </tr>\n",
       "    <tr>\n",
       "      <th>4</th>\n",
       "      <td>5</td>\n",
       "      <td>Antioquia</td>\n",
       "      <td>5004</td>\n",
       "      <td>Abriaquí</td>\n",
       "      <td>Aseguramiento</td>\n",
       "      <td>Afiliados al régimen contributivo</td>\n",
       "      <td>217</td>\n",
       "      <td>2012</td>\n",
       "      <td>12</td>\n",
       "      <td>Ministerio de Salud y Protección Social</td>\n",
       "      <td>Personas</td>\n",
       "    </tr>\n",
       "    <tr>\n",
       "      <th>5</th>\n",
       "      <td>5</td>\n",
       "      <td>Antioquia</td>\n",
       "      <td>5021</td>\n",
       "      <td>Alejandría</td>\n",
       "      <td>Aseguramiento</td>\n",
       "      <td>Afiliados al régimen contributivo</td>\n",
       "      <td>746</td>\n",
       "      <td>2012</td>\n",
       "      <td>12</td>\n",
       "      <td>Ministerio de Salud y Protección Social</td>\n",
       "      <td>Personas</td>\n",
       "    </tr>\n",
       "  </tbody>\n",
       "</table>\n",
       "</div>"
      ],
      "text/plain": [
       "   CodigoDepartamento Departamento  CodigoEntidad     Entidad   Subcategoria  \\\n",
       "1                   5    Antioquia           5000   Antioquia  Aseguramiento   \n",
       "2                   5    Antioquia           5001    Medellín  Aseguramiento   \n",
       "3                   5    Antioquia           5002   Abejorral  Aseguramiento   \n",
       "4                   5    Antioquia           5004    Abriaquí  Aseguramiento   \n",
       "5                   5    Antioquia           5021  Alejandría  Aseguramiento   \n",
       "\n",
       "                           Indicador  DatoNumerico  Anio  Mes  \\\n",
       "1  Afiliados al régimen contributivo  3.220.651,00  2012   12   \n",
       "2  Afiliados al régimen contributivo  1.673.771,00  2012   12   \n",
       "3  Afiliados al régimen contributivo      2.514,00  2012   12   \n",
       "4  Afiliados al régimen contributivo           217  2012   12   \n",
       "5  Afiliados al régimen contributivo           746  2012   12   \n",
       "\n",
       "                                    Fuente UnidadDeMedida  \n",
       "1  Ministerio de Salud y Protección Social       Personas  \n",
       "2  Ministerio de Salud y Protección Social       Personas  \n",
       "3  Ministerio de Salud y Protección Social       Personas  \n",
       "4  Ministerio de Salud y Protección Social       Personas  \n",
       "5  Ministerio de Salud y Protección Social       Personas  "
      ]
     },
     "execution_count": 127,
     "metadata": {},
     "output_type": "execute_result"
    }
   ],
   "source": [
    "df_salud_t.head()"
   ]
  },
  {
   "cell_type": "code",
   "execution_count": 128,
   "metadata": {},
   "outputs": [],
   "source": [
    "df_vivienda_t=df_vivienda_t.drop(df_vivienda_t[df_vivienda_t['Entidad']=='Colombia'].index)"
   ]
  },
  {
   "cell_type": "code",
   "execution_count": 129,
   "metadata": {},
   "outputs": [
    {
     "data": {
      "text/html": [
       "<div>\n",
       "<style scoped>\n",
       "    .dataframe tbody tr th:only-of-type {\n",
       "        vertical-align: middle;\n",
       "    }\n",
       "\n",
       "    .dataframe tbody tr th {\n",
       "        vertical-align: top;\n",
       "    }\n",
       "\n",
       "    .dataframe thead th {\n",
       "        text-align: right;\n",
       "    }\n",
       "</style>\n",
       "<table border=\"1\" class=\"dataframe\">\n",
       "  <thead>\n",
       "    <tr style=\"text-align: right;\">\n",
       "      <th></th>\n",
       "      <th>CodigoDepartamento</th>\n",
       "      <th>Departamento</th>\n",
       "      <th>CodigoEntidad</th>\n",
       "      <th>Entidad</th>\n",
       "      <th>Indicador</th>\n",
       "      <th>DatoNumerico</th>\n",
       "      <th>Anio</th>\n",
       "      <th>Mes</th>\n",
       "      <th>Fuente</th>\n",
       "      <th>UnidadDeMedida</th>\n",
       "    </tr>\n",
       "  </thead>\n",
       "  <tbody>\n",
       "    <tr>\n",
       "      <th>0</th>\n",
       "      <td>NaN</td>\n",
       "      <td>NaN</td>\n",
       "      <td>NaN</td>\n",
       "      <td>NaN</td>\n",
       "      <td>aaaaaaaaaaaaaaaaaaaaaaaaaaaaaaaaaaaaaaaaaaaaaa...</td>\n",
       "      <td>NaN</td>\n",
       "      <td>NaN</td>\n",
       "      <td>NaN</td>\n",
       "      <td>aaaaaaaaaaaaaaaaaaaaaaaaaaaaaaaaaaaaaaaaaaaaaa...</td>\n",
       "      <td>NaN</td>\n",
       "    </tr>\n",
       "    <tr>\n",
       "      <th>2</th>\n",
       "      <td>5.0</td>\n",
       "      <td>Antioquia</td>\n",
       "      <td>5000.0</td>\n",
       "      <td>Antioquia</td>\n",
       "      <td>Cobertura de energía eléctrica rural</td>\n",
       "      <td>98.05</td>\n",
       "      <td>2011.0</td>\n",
       "      <td>12.0</td>\n",
       "      <td>UPME</td>\n",
       "      <td>Porcentaje (el valor está multiplicado por 100)</td>\n",
       "    </tr>\n",
       "    <tr>\n",
       "      <th>3</th>\n",
       "      <td>5.0</td>\n",
       "      <td>Antioquia</td>\n",
       "      <td>5001.0</td>\n",
       "      <td>Medellín</td>\n",
       "      <td>Cobertura de energía eléctrica rural</td>\n",
       "      <td>100.00</td>\n",
       "      <td>2011.0</td>\n",
       "      <td>12.0</td>\n",
       "      <td>UPME</td>\n",
       "      <td>Porcentaje (el valor está multiplicado por 100)</td>\n",
       "    </tr>\n",
       "    <tr>\n",
       "      <th>4</th>\n",
       "      <td>5.0</td>\n",
       "      <td>Antioquia</td>\n",
       "      <td>5002.0</td>\n",
       "      <td>Abejorral</td>\n",
       "      <td>Cobertura de energía eléctrica rural</td>\n",
       "      <td>100.00</td>\n",
       "      <td>2011.0</td>\n",
       "      <td>12.0</td>\n",
       "      <td>UPME</td>\n",
       "      <td>Porcentaje (el valor está multiplicado por 100)</td>\n",
       "    </tr>\n",
       "    <tr>\n",
       "      <th>5</th>\n",
       "      <td>5.0</td>\n",
       "      <td>Antioquia</td>\n",
       "      <td>5004.0</td>\n",
       "      <td>Abriaquí</td>\n",
       "      <td>Cobertura de energía eléctrica rural</td>\n",
       "      <td>99.48</td>\n",
       "      <td>2011.0</td>\n",
       "      <td>12.0</td>\n",
       "      <td>UPME</td>\n",
       "      <td>Porcentaje (el valor está multiplicado por 100)</td>\n",
       "    </tr>\n",
       "  </tbody>\n",
       "</table>\n",
       "</div>"
      ],
      "text/plain": [
       "   CodigoDepartamento Departamento  CodigoEntidad    Entidad  \\\n",
       "0                 NaN          NaN            NaN        NaN   \n",
       "2                 5.0    Antioquia         5000.0  Antioquia   \n",
       "3                 5.0    Antioquia         5001.0   Medellín   \n",
       "4                 5.0    Antioquia         5002.0  Abejorral   \n",
       "5                 5.0    Antioquia         5004.0   Abriaquí   \n",
       "\n",
       "                                           Indicador  DatoNumerico    Anio  \\\n",
       "0  aaaaaaaaaaaaaaaaaaaaaaaaaaaaaaaaaaaaaaaaaaaaaa...           NaN     NaN   \n",
       "2               Cobertura de energía eléctrica rural         98.05  2011.0   \n",
       "3               Cobertura de energía eléctrica rural        100.00  2011.0   \n",
       "4               Cobertura de energía eléctrica rural        100.00  2011.0   \n",
       "5               Cobertura de energía eléctrica rural         99.48  2011.0   \n",
       "\n",
       "    Mes                                             Fuente  \\\n",
       "0   NaN  aaaaaaaaaaaaaaaaaaaaaaaaaaaaaaaaaaaaaaaaaaaaaa...   \n",
       "2  12.0                                               UPME   \n",
       "3  12.0                                               UPME   \n",
       "4  12.0                                               UPME   \n",
       "5  12.0                                               UPME   \n",
       "\n",
       "                                    UnidadDeMedida  \n",
       "0                                              NaN  \n",
       "2  Porcentaje (el valor está multiplicado por 100)  \n",
       "3  Porcentaje (el valor está multiplicado por 100)  \n",
       "4  Porcentaje (el valor está multiplicado por 100)  \n",
       "5  Porcentaje (el valor está multiplicado por 100)  "
      ]
     },
     "execution_count": 129,
     "metadata": {},
     "output_type": "execute_result"
    }
   ],
   "source": [
    "df_vivienda_t.head()"
   ]
  },
  {
   "cell_type": "markdown",
   "metadata": {},
   "source": [
    "# Creación CSVs"
   ]
  },
  {
   "cell_type": "code",
   "execution_count": 130,
   "metadata": {},
   "outputs": [],
   "source": [
    "conflicto=pd.DataFrame(df_conflicto_t)\n",
    "conflicto.to_csv('dimension_conflicto_armado.csv',encoding='latin1')"
   ]
  },
  {
   "cell_type": "code",
   "execution_count": 131,
   "metadata": {},
   "outputs": [],
   "source": [
    "educacion=pd.DataFrame(df_educacion_t)\n",
    "educacion.to_csv('dimension_educacion.csv',encoding='latin1')"
   ]
  },
  {
   "cell_type": "code",
   "execution_count": 132,
   "metadata": {},
   "outputs": [],
   "source": [
    "salud=pd.DataFrame(df_salud_t)\n",
    "salud.to_csv('dimension_salud.csv',encoding='latin1')"
   ]
  },
  {
   "cell_type": "code",
   "execution_count": 133,
   "metadata": {},
   "outputs": [],
   "source": [
    "vivienda=pd.DataFrame(df_vivienda_t)\n",
    "vivienda.to_csv('dimension_vivienda.csv',encoding='latin1')"
   ]
  },
  {
   "cell_type": "markdown",
   "metadata": {},
   "source": [
    "# Cargar JSON a CSV"
   ]
  },
  {
   "cell_type": "code",
   "execution_count": 134,
   "metadata": {},
   "outputs": [],
   "source": [
    "\n",
    "import requests\n",
    "import pandas as pd\n",
    "import os\n",
    "\n",
    "df = pd.read_json (r'https://bloqueneon.uniandes.edu.co//content/enforced/141275-UN_202220_ISIS3301_I/mineriaInfo.json?isCourseFile=true&_&d2lSessionVal=o09mp5OmLJDEI04Gos4ZOrOun&ou=141275')\n",
    "df.to_csv ('Mineria.csv', index = None)"
   ]
  },
  {
   "cell_type": "code",
   "execution_count": 135,
   "metadata": {},
   "outputs": [],
   "source": [
    "df_mineria=pd.read_csv('Mineria.csv', sep=',', encoding = 'utf-8')\n",
    "\n"
   ]
  },
  {
   "cell_type": "code",
   "execution_count": 136,
   "metadata": {},
   "outputs": [
    {
     "data": {
      "text/html": [
       "<div>\n",
       "<style scoped>\n",
       "    .dataframe tbody tr th:only-of-type {\n",
       "        vertical-align: middle;\n",
       "    }\n",
       "\n",
       "    .dataframe tbody tr th {\n",
       "        vertical-align: top;\n",
       "    }\n",
       "\n",
       "    .dataframe thead th {\n",
       "        text-align: right;\n",
       "    }\n",
       "</style>\n",
       "<table border=\"1\" class=\"dataframe\">\n",
       "  <thead>\n",
       "    <tr style=\"text-align: right;\">\n",
       "      <th></th>\n",
       "      <th>codigo_dane</th>\n",
       "      <th>municipio_productor</th>\n",
       "      <th>departamento</th>\n",
       "      <th>recurso_natural</th>\n",
       "      <th>nombre_del_proyecto</th>\n",
       "      <th>a_o_produccion</th>\n",
       "      <th>trimestre</th>\n",
       "      <th>unidad_medida</th>\n",
       "      <th>tipo_contraprestacion</th>\n",
       "      <th>valor_contraprestacion</th>\n",
       "      <th>cantidad_producci_n</th>\n",
       "    </tr>\n",
       "  </thead>\n",
       "  <tbody>\n",
       "    <tr>\n",
       "      <th>0</th>\n",
       "      <td>5001</td>\n",
       "      <td>Medellin</td>\n",
       "      <td>Antioquia</td>\n",
       "      <td>ARCILLA</td>\n",
       "      <td>PRODUCTORES</td>\n",
       "      <td>2018</td>\n",
       "      <td>Trimestre 4</td>\n",
       "      <td>TONELADAS</td>\n",
       "      <td>REGALIA</td>\n",
       "      <td>614258.0</td>\n",
       "      <td>0.0</td>\n",
       "    </tr>\n",
       "    <tr>\n",
       "      <th>1</th>\n",
       "      <td>5001</td>\n",
       "      <td>Medellin</td>\n",
       "      <td>Antioquia</td>\n",
       "      <td>ARCILLAS CERAMICAS</td>\n",
       "      <td>PRODUCTORES</td>\n",
       "      <td>2014</td>\n",
       "      <td>Trimestre 4</td>\n",
       "      <td>TONELADAS</td>\n",
       "      <td>REGALIA</td>\n",
       "      <td>2036781.0</td>\n",
       "      <td>14381.0</td>\n",
       "    </tr>\n",
       "    <tr>\n",
       "      <th>2</th>\n",
       "      <td>5001</td>\n",
       "      <td>Medellin</td>\n",
       "      <td>Antioquia</td>\n",
       "      <td>ARCILLAS FERRUGINOSAS</td>\n",
       "      <td>PRODUCTORES</td>\n",
       "      <td>2012</td>\n",
       "      <td>Trimestre 1</td>\n",
       "      <td>TONELADAS</td>\n",
       "      <td>REGALIA</td>\n",
       "      <td>836927.0</td>\n",
       "      <td>16308.0</td>\n",
       "    </tr>\n",
       "    <tr>\n",
       "      <th>3</th>\n",
       "      <td>5001</td>\n",
       "      <td>Medellin</td>\n",
       "      <td>Antioquia</td>\n",
       "      <td>ARCILLAS MISCELANEAS</td>\n",
       "      <td>PRODUCTORES</td>\n",
       "      <td>2019</td>\n",
       "      <td>Trimestre 1</td>\n",
       "      <td>TONELADAS</td>\n",
       "      <td>REGALIA</td>\n",
       "      <td>5763839.0</td>\n",
       "      <td>33348.0</td>\n",
       "    </tr>\n",
       "    <tr>\n",
       "      <th>4</th>\n",
       "      <td>5001</td>\n",
       "      <td>Medellin</td>\n",
       "      <td>Antioquia</td>\n",
       "      <td>ARCILLAS MISCELANEAS</td>\n",
       "      <td>PRODUCTORES</td>\n",
       "      <td>2019</td>\n",
       "      <td>Trimestre 2</td>\n",
       "      <td>TONELADAS</td>\n",
       "      <td>REGALIA</td>\n",
       "      <td>5802546.0</td>\n",
       "      <td>32485.0</td>\n",
       "    </tr>\n",
       "  </tbody>\n",
       "</table>\n",
       "</div>"
      ],
      "text/plain": [
       "   codigo_dane municipio_productor departamento        recurso_natural  \\\n",
       "0         5001            Medellin    Antioquia                ARCILLA   \n",
       "1         5001            Medellin    Antioquia     ARCILLAS CERAMICAS   \n",
       "2         5001            Medellin    Antioquia  ARCILLAS FERRUGINOSAS   \n",
       "3         5001            Medellin    Antioquia   ARCILLAS MISCELANEAS   \n",
       "4         5001            Medellin    Antioquia   ARCILLAS MISCELANEAS   \n",
       "\n",
       "  nombre_del_proyecto  a_o_produccion    trimestre unidad_medida  \\\n",
       "0         PRODUCTORES            2018  Trimestre 4     TONELADAS   \n",
       "1         PRODUCTORES            2014  Trimestre 4     TONELADAS   \n",
       "2         PRODUCTORES            2012  Trimestre 1     TONELADAS   \n",
       "3         PRODUCTORES            2019  Trimestre 1     TONELADAS   \n",
       "4         PRODUCTORES            2019  Trimestre 2     TONELADAS   \n",
       "\n",
       "  tipo_contraprestacion  valor_contraprestacion  cantidad_producci_n  \n",
       "0               REGALIA                614258.0                  0.0  \n",
       "1               REGALIA               2036781.0              14381.0  \n",
       "2               REGALIA                836927.0              16308.0  \n",
       "3               REGALIA               5763839.0              33348.0  \n",
       "4               REGALIA               5802546.0              32485.0  "
      ]
     },
     "execution_count": 136,
     "metadata": {},
     "output_type": "execute_result"
    }
   ],
   "source": [
    "df_mineria.head()"
   ]
  },
  {
   "cell_type": "code",
   "execution_count": 137,
   "metadata": {},
   "outputs": [
    {
     "name": "stdout",
     "output_type": "stream",
     "text": [
      "<class 'pandas.core.frame.DataFrame'>\n",
      "RangeIndex: 45215 entries, 0 to 45214\n",
      "Data columns (total 11 columns):\n",
      " #   Column                  Non-Null Count  Dtype  \n",
      "---  ------                  --------------  -----  \n",
      " 0   codigo_dane             45215 non-null  int64  \n",
      " 1   municipio_productor     45215 non-null  object \n",
      " 2   departamento            45215 non-null  object \n",
      " 3   recurso_natural         45215 non-null  object \n",
      " 4   nombre_del_proyecto     45215 non-null  object \n",
      " 5   a_o_produccion          45215 non-null  int64  \n",
      " 6   trimestre               45215 non-null  object \n",
      " 7   unidad_medida           45215 non-null  object \n",
      " 8   tipo_contraprestacion   45215 non-null  object \n",
      " 9   valor_contraprestacion  45155 non-null  float64\n",
      " 10  cantidad_producci_n     45214 non-null  float64\n",
      "dtypes: float64(2), int64(2), object(7)\n",
      "memory usage: 3.8+ MB\n"
     ]
    }
   ],
   "source": [
    "df_mineria.info()"
   ]
  },
  {
   "cell_type": "code",
   "execution_count": 138,
   "metadata": {},
   "outputs": [
    {
     "data": {
      "text/plain": [
       "(45215, 11)"
      ]
     },
     "execution_count": 138,
     "metadata": {},
     "output_type": "execute_result"
    }
   ],
   "source": [
    "df_mineria.shape"
   ]
  },
  {
   "cell_type": "code",
   "execution_count": 139,
   "metadata": {},
   "outputs": [
    {
     "data": {
      "text/plain": [
       "codigo_dane                0\n",
       "municipio_productor        0\n",
       "departamento               0\n",
       "recurso_natural            0\n",
       "nombre_del_proyecto        0\n",
       "a_o_produccion             0\n",
       "trimestre                  0\n",
       "unidad_medida              0\n",
       "tipo_contraprestacion      0\n",
       "valor_contraprestacion    60\n",
       "cantidad_producci_n        1\n",
       "dtype: int64"
      ]
     },
     "execution_count": 139,
     "metadata": {},
     "output_type": "execute_result"
    }
   ],
   "source": [
    "df_mineria.isnull().sum()"
   ]
  },
  {
   "cell_type": "markdown",
   "metadata": {},
   "source": [
    "# Limpieza minería"
   ]
  },
  {
   "cell_type": "code",
   "execution_count": 140,
   "metadata": {},
   "outputs": [
    {
     "name": "stderr",
     "output_type": "stream",
     "text": [
      "C:\\Users\\Windows\\AppData\\Local\\Temp\\ipykernel_1512\\3343551859.py:2: FutureWarning: The default value of regex will change from True to False in a future version.\n",
      "  df_mineria_t['departamento'] = df_mineria_t['departamento'].str.replace('[Ã±,ï¿½ï¿½]', 'ñ')\n",
      "C:\\Users\\Windows\\AppData\\Local\\Temp\\ipykernel_1512\\3343551859.py:3: FutureWarning: The default value of regex will change from True to False in a future version.\n",
      "  df_mineria_t['municipio_productor'] = df_mineria_t['municipio_productor'].str.replace('[Ã±o]', 'ñ')\n"
     ]
    }
   ],
   "source": [
    "df_mineria_t=df_mineria.copy()\n",
    "df_mineria_t['departamento'] = df_mineria_t['departamento'].str.replace('[Ã±,ï¿½ï¿½]', 'ñ')\n",
    "df_mineria_t['municipio_productor'] = df_mineria_t['municipio_productor'].str.replace('[Ã±o]', 'ñ')\n",
    "df_mineria_t['municipio_productor'] = df_mineria_t['municipio_productor'].str.replace('Ã¼', 'gü')\n",
    "df_mineria_t['municipio_productor'] = df_mineria_t['municipio_productor'].str.replace('Ã±', 'ñ')\n",
    "df_mineria_t['municipio_productor'] = df_mineria_t['municipio_productor'].str.replace('Ã¡', 'á')\n",
    "df_mineria_t['municipio_productor'] = df_mineria_t['municipio_productor'].str.replace('Ã³', 'ó')\n",
    "df_mineria_t['valor_contraprestacion'] = df_mineria_t['valor_contraprestacion'].fillna(0)\n",
    "\n"
   ]
  },
  {
   "cell_type": "code",
   "execution_count": 141,
   "metadata": {},
   "outputs": [],
   "source": [
    "df_mineria_t.columns=[ 'Codigo_dane', 'Municipio_productor', 'Departamento', 'Recurso_natural', 'Nombre_del_proyecto', 'A_o_produccion', 'Trimestre', 'Unidad_medida', 'Tipo_contraprestacion', 'Valor_contraprestacion', 'Cantidad_producci_n']\n"
   ]
  },
  {
   "cell_type": "code",
   "execution_count": 142,
   "metadata": {},
   "outputs": [
    {
     "data": {
      "text/html": [
       "<div>\n",
       "<style scoped>\n",
       "    .dataframe tbody tr th:only-of-type {\n",
       "        vertical-align: middle;\n",
       "    }\n",
       "\n",
       "    .dataframe tbody tr th {\n",
       "        vertical-align: top;\n",
       "    }\n",
       "\n",
       "    .dataframe thead th {\n",
       "        text-align: right;\n",
       "    }\n",
       "</style>\n",
       "<table border=\"1\" class=\"dataframe\">\n",
       "  <thead>\n",
       "    <tr style=\"text-align: right;\">\n",
       "      <th></th>\n",
       "      <th>Codigo_dane</th>\n",
       "      <th>Municipio_productor</th>\n",
       "      <th>Departamento</th>\n",
       "      <th>Recurso_natural</th>\n",
       "      <th>Nombre_del_proyecto</th>\n",
       "      <th>A_o_produccion</th>\n",
       "      <th>Trimestre</th>\n",
       "      <th>Unidad_medida</th>\n",
       "      <th>Tipo_contraprestacion</th>\n",
       "      <th>Valor_contraprestacion</th>\n",
       "      <th>Cantidad_producci_n</th>\n",
       "    </tr>\n",
       "  </thead>\n",
       "  <tbody>\n",
       "    <tr>\n",
       "      <th>0</th>\n",
       "      <td>5001</td>\n",
       "      <td>Medellin</td>\n",
       "      <td>Antioquia</td>\n",
       "      <td>ARCILLA</td>\n",
       "      <td>PRODUCTORES</td>\n",
       "      <td>2018</td>\n",
       "      <td>Trimestre 4</td>\n",
       "      <td>TONELADAS</td>\n",
       "      <td>REGALIA</td>\n",
       "      <td>614258.0</td>\n",
       "      <td>0.0</td>\n",
       "    </tr>\n",
       "    <tr>\n",
       "      <th>1</th>\n",
       "      <td>5001</td>\n",
       "      <td>Medellin</td>\n",
       "      <td>Antioquia</td>\n",
       "      <td>ARCILLAS CERAMICAS</td>\n",
       "      <td>PRODUCTORES</td>\n",
       "      <td>2014</td>\n",
       "      <td>Trimestre 4</td>\n",
       "      <td>TONELADAS</td>\n",
       "      <td>REGALIA</td>\n",
       "      <td>2036781.0</td>\n",
       "      <td>14381.0</td>\n",
       "    </tr>\n",
       "    <tr>\n",
       "      <th>2</th>\n",
       "      <td>5001</td>\n",
       "      <td>Medellin</td>\n",
       "      <td>Antioquia</td>\n",
       "      <td>ARCILLAS FERRUGINOSAS</td>\n",
       "      <td>PRODUCTORES</td>\n",
       "      <td>2012</td>\n",
       "      <td>Trimestre 1</td>\n",
       "      <td>TONELADAS</td>\n",
       "      <td>REGALIA</td>\n",
       "      <td>836927.0</td>\n",
       "      <td>16308.0</td>\n",
       "    </tr>\n",
       "    <tr>\n",
       "      <th>3</th>\n",
       "      <td>5001</td>\n",
       "      <td>Medellin</td>\n",
       "      <td>Antioquia</td>\n",
       "      <td>ARCILLAS MISCELANEAS</td>\n",
       "      <td>PRODUCTORES</td>\n",
       "      <td>2019</td>\n",
       "      <td>Trimestre 1</td>\n",
       "      <td>TONELADAS</td>\n",
       "      <td>REGALIA</td>\n",
       "      <td>5763839.0</td>\n",
       "      <td>33348.0</td>\n",
       "    </tr>\n",
       "    <tr>\n",
       "      <th>4</th>\n",
       "      <td>5001</td>\n",
       "      <td>Medellin</td>\n",
       "      <td>Antioquia</td>\n",
       "      <td>ARCILLAS MISCELANEAS</td>\n",
       "      <td>PRODUCTORES</td>\n",
       "      <td>2019</td>\n",
       "      <td>Trimestre 2</td>\n",
       "      <td>TONELADAS</td>\n",
       "      <td>REGALIA</td>\n",
       "      <td>5802546.0</td>\n",
       "      <td>32485.0</td>\n",
       "    </tr>\n",
       "  </tbody>\n",
       "</table>\n",
       "</div>"
      ],
      "text/plain": [
       "   Codigo_dane Municipio_productor Departamento        Recurso_natural  \\\n",
       "0         5001            Medellin    Antioquia                ARCILLA   \n",
       "1         5001            Medellin    Antioquia     ARCILLAS CERAMICAS   \n",
       "2         5001            Medellin    Antioquia  ARCILLAS FERRUGINOSAS   \n",
       "3         5001            Medellin    Antioquia   ARCILLAS MISCELANEAS   \n",
       "4         5001            Medellin    Antioquia   ARCILLAS MISCELANEAS   \n",
       "\n",
       "  Nombre_del_proyecto  A_o_produccion    Trimestre Unidad_medida  \\\n",
       "0         PRODUCTORES            2018  Trimestre 4     TONELADAS   \n",
       "1         PRODUCTORES            2014  Trimestre 4     TONELADAS   \n",
       "2         PRODUCTORES            2012  Trimestre 1     TONELADAS   \n",
       "3         PRODUCTORES            2019  Trimestre 1     TONELADAS   \n",
       "4         PRODUCTORES            2019  Trimestre 2     TONELADAS   \n",
       "\n",
       "  Tipo_contraprestacion  Valor_contraprestacion  Cantidad_producci_n  \n",
       "0               REGALIA                614258.0                  0.0  \n",
       "1               REGALIA               2036781.0              14381.0  \n",
       "2               REGALIA                836927.0              16308.0  \n",
       "3               REGALIA               5763839.0              33348.0  \n",
       "4               REGALIA               5802546.0              32485.0  "
      ]
     },
     "execution_count": 142,
     "metadata": {},
     "output_type": "execute_result"
    }
   ],
   "source": [
    "df_mineria_t.head()"
   ]
  },
  {
   "cell_type": "code",
   "execution_count": 143,
   "metadata": {},
   "outputs": [],
   "source": [
    "mineria=pd.DataFrame(df_mineria_t)\n",
    "mineria.to_csv('dimension_mineria.csv',encoding='UTF-8')"
   ]
  }
 ],
 "metadata": {
  "kernelspec": {
   "display_name": "Python 3.10.2 64-bit",
   "language": "python",
   "name": "python3"
  },
  "language_info": {
   "codemirror_mode": {
    "name": "ipython",
    "version": 3
   },
   "file_extension": ".py",
   "mimetype": "text/x-python",
   "name": "python",
   "nbconvert_exporter": "python",
   "pygments_lexer": "ipython3",
   "version": "3.10.2"
  },
  "orig_nbformat": 4,
  "vscode": {
   "interpreter": {
    "hash": "04eb5fd3382f5ae6ecd8e5ea5943a43c2b77f84302c9ef3aee2bb26e0a62d38e"
   }
  }
 },
 "nbformat": 4,
 "nbformat_minor": 2
}
